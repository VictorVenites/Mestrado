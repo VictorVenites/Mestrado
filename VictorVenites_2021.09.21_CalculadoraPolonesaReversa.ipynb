{
 "cells": [
  {
   "cell_type": "markdown",
   "id": "8954f390-d7de-4d62-9b69-dea7bd3072ac",
   "metadata": {},
   "source": [
    "# Calculadora Polonesa Reversa\n",
    "- Autor: Victor Venites\n",
    "- Data: 2021/09/21\n",
    "- Disciplina: Algoritmos e Programação\n",
    "- Curso: Mestrado Profissional de Computação Aplicada\n",
    "- Instituição: Mackenzie\n",
    "\n",
    "## Resumo\n",
    "- Estrutura de entrada em forma de pilha\n",
    "- Separar operador e separar os operandos\n",
    "- Calcular e retornar resultado\n",
    "- Tudo de forma recursiva"
   ]
  },
  {
   "cell_type": "code",
   "execution_count": 1,
   "id": "9f2be48a-290c-4582-9630-79c4efc88128",
   "metadata": {},
   "outputs": [],
   "source": [
    "import sys"
   ]
  },
  {
   "cell_type": "code",
   "execution_count": 2,
   "id": "8a588cab-3703-432d-b834-e09d026d10e8",
   "metadata": {},
   "outputs": [],
   "source": [
    "def soma(a, b):\n",
    "    return a + b"
   ]
  },
  {
   "cell_type": "code",
   "execution_count": 3,
   "id": "fe1c2607-adb0-4077-a3fa-a122e5beb366",
   "metadata": {},
   "outputs": [],
   "source": [
    "def subtracao(a, b):\n",
    "    return a - b"
   ]
  },
  {
   "cell_type": "code",
   "execution_count": 4,
   "id": "a0f213cc-819b-4c48-b5b4-9d4ab3831fec",
   "metadata": {},
   "outputs": [],
   "source": [
    "def multiplicacao(a, b):\n",
    "    return a * b"
   ]
  },
  {
   "cell_type": "code",
   "execution_count": 5,
   "id": "165debe8-fead-4d4b-9822-d68be4ef0b63",
   "metadata": {},
   "outputs": [],
   "source": [
    "def divisao(a, b):\n",
    "    return a / b"
   ]
  },
  {
   "cell_type": "code",
   "execution_count": 6,
   "id": "a6ca0cdc-58d5-4a6f-8902-87470069fa75",
   "metadata": {},
   "outputs": [],
   "source": [
    "dict_operadores = {'+': soma, '-': subtracao,\n",
    "                   '*': multiplicacao, '/': divisao}"
   ]
  },
  {
   "cell_type": "code",
   "execution_count": 7,
   "id": "e6237fd7-5dfa-4808-a67d-fc1e0a0763cb",
   "metadata": {},
   "outputs": [],
   "source": [
    "def calculo_operador(folha_esquerda, folha_direita, no):\n",
    "    operacao = dict_operadores[no]\n",
    "    calculo = operacao(folha_esquerda, folha_direita)\n",
    "    print(f\"calculo => {calculo}\")\n",
    "    return calculo"
   ]
  },
  {
   "cell_type": "code",
   "execution_count": 8,
   "id": "df24a61e-0217-4749-adb2-9f03e08cccb7",
   "metadata": {},
   "outputs": [],
   "source": [
    "def calc_polon_revers(pilha):\n",
    "    print(f\"pilha => {pilha}\")\n",
    "    if len(pilha) > 1:\n",
    "        no = pilha.pop()\n",
    "        print(f\"no => {no}\")\n",
    "        if type(no) == str:\n",
    "            folha_direita = pilha.pop()\n",
    "            print(f\"folha_direita => {folha_direita}\")\n",
    "            if type(folha_direita) == str:\n",
    "                sys.exit(\"Erro de operador repetido\")\n",
    "\n",
    "            if len(pilha) == 1:\n",
    "                folha_esquerda = pilha.pop()\n",
    "                print(f\"folha_esquerda => {folha_esquerda}\")\n",
    "            else:\n",
    "                folha_esquerda = calc_polon_revers(pilha)\n",
    "    \n",
    "            subir_no = calculo_operador(folha_esquerda, folha_direita, no)\n",
    "            \n",
    "            return subir_no\n",
    "        elif type(no) == int:\n",
    "            sys.exit(\"Erro Operador não pode ser numero\")"
   ]
  },
  {
   "cell_type": "code",
   "execution_count": 9,
   "id": "a3a27a83-ec7c-471c-a52d-69a8db9f487a",
   "metadata": {},
   "outputs": [
    {
     "name": "stdout",
     "output_type": "stream",
     "text": [
      "pilha => [3, 4, '+']\n",
      "no => +\n",
      "folha_direita => 4\n",
      "folha_esquerda => 3\n",
      "calculo => 7\n"
     ]
    },
    {
     "data": {
      "text/plain": [
       "7"
      ]
     },
     "execution_count": 9,
     "metadata": {},
     "output_type": "execute_result"
    }
   ],
   "source": [
    "# Tem que retornar resultado de calculo = 12\n",
    "calc_polon_revers([3, 4, '+'])"
   ]
  },
  {
   "cell_type": "code",
   "execution_count": 10,
   "id": "4a738c4f-4b6e-40ae-90f2-0d4d0ab4a322",
   "metadata": {},
   "outputs": [
    {
     "name": "stdout",
     "output_type": "stream",
     "text": [
      "pilha => [3, 4, '+', 5, '*']\n",
      "no => *\n",
      "folha_direita => 5\n",
      "pilha => [3, 4, '+']\n",
      "no => +\n",
      "folha_direita => 4\n",
      "folha_esquerda => 3\n",
      "calculo => 7\n",
      "calculo => 35\n"
     ]
    },
    {
     "data": {
      "text/plain": [
       "35"
      ]
     },
     "execution_count": 10,
     "metadata": {},
     "output_type": "execute_result"
    }
   ],
   "source": [
    "# Tem que retornar resultado de calculo = 35\n",
    "calc_polon_revers([3, 4, '+', 5, '*'])"
   ]
  },
  {
   "cell_type": "code",
   "execution_count": 11,
   "id": "0eff0d5d-e3f3-427d-9f32-6e837554b3ba",
   "metadata": {},
   "outputs": [
    {
     "name": "stdout",
     "output_type": "stream",
     "text": [
      "pilha => [3, 4, '+', 5, '*', 12, '-']\n",
      "no => -\n",
      "folha_direita => 12\n",
      "pilha => [3, 4, '+', 5, '*']\n",
      "no => *\n",
      "folha_direita => 5\n",
      "pilha => [3, 4, '+']\n",
      "no => +\n",
      "folha_direita => 4\n",
      "folha_esquerda => 3\n",
      "calculo => 7\n",
      "calculo => 35\n",
      "calculo => 23\n"
     ]
    },
    {
     "data": {
      "text/plain": [
       "23"
      ]
     },
     "execution_count": 11,
     "metadata": {},
     "output_type": "execute_result"
    }
   ],
   "source": [
    "# Tem que retornar resultado de calculo = 23\n",
    "calc_polon_revers([3, 4, '+', 5, '*', 12, '-'])"
   ]
  },
  {
   "cell_type": "code",
   "execution_count": 12,
   "id": "dc2f2ee9-3b14-4756-a472-c52474325b5a",
   "metadata": {},
   "outputs": [
    {
     "name": "stdout",
     "output_type": "stream",
     "text": [
      "pilha => [3, 4, '+', 5, '*', 10, '-', 5, '/']\n",
      "no => /\n",
      "folha_direita => 5\n",
      "pilha => [3, 4, '+', 5, '*', 10, '-']\n",
      "no => -\n",
      "folha_direita => 10\n",
      "pilha => [3, 4, '+', 5, '*']\n",
      "no => *\n",
      "folha_direita => 5\n",
      "pilha => [3, 4, '+']\n",
      "no => +\n",
      "folha_direita => 4\n",
      "folha_esquerda => 3\n",
      "calculo => 7\n",
      "calculo => 35\n",
      "calculo => 25\n",
      "calculo => 5.0\n"
     ]
    },
    {
     "data": {
      "text/plain": [
       "5.0"
      ]
     },
     "execution_count": 12,
     "metadata": {},
     "output_type": "execute_result"
    }
   ],
   "source": [
    "# Tem que retornar resultado de calculo = 5\n",
    "calc_polon_revers([3, 4, '+', 5, '*', 10, '-', 5, '/'])"
   ]
  },
  {
   "cell_type": "markdown",
   "id": "de7f8dea-c8fe-4b60-ae4b-1a1cb354c3d9",
   "metadata": {},
   "source": [
    "# Desafio Gabriel Kakizaki\n",
    "\n",
    "-38 1 - 4 * 2 / 120 +"
   ]
  },
  {
   "cell_type": "code",
   "execution_count": 15,
   "id": "9d941780-d54b-4d09-898f-22101f5a009a",
   "metadata": {},
   "outputs": [
    {
     "name": "stdout",
     "output_type": "stream",
     "text": [
      "pilha => [-38, 1, '-', 4, '*', 2, '/', 120, '+']\n",
      "no => +\n",
      "folha_direita => 120\n",
      "pilha => [-38, 1, '-', 4, '*', 2, '/']\n",
      "no => /\n",
      "folha_direita => 2\n",
      "pilha => [-38, 1, '-', 4, '*']\n",
      "no => *\n",
      "folha_direita => 4\n",
      "pilha => [-38, 1, '-']\n",
      "no => -\n",
      "folha_direita => 1\n",
      "folha_esquerda => -38\n",
      "calculo => -39\n",
      "calculo => -156\n",
      "calculo => -78.0\n",
      "calculo => 42.0\n"
     ]
    },
    {
     "data": {
      "text/plain": [
       "42.0"
      ]
     },
     "execution_count": 15,
     "metadata": {},
     "output_type": "execute_result"
    }
   ],
   "source": [
    "pilha = [-38, 1, '-', 4, '*', 2, '/', 120, '+']\n",
    "calc_polon_revers(pilha)"
   ]
  },
  {
   "cell_type": "markdown",
   "id": "e24eb258-1068-45ad-b9c0-75f5b69df8d6",
   "metadata": {},
   "source": [
    "# Teste de casos com Erro"
   ]
  },
  {
   "cell_type": "code",
   "execution_count": 13,
   "id": "793cc18c-f375-4fb9-9383-1c606a21cf28",
   "metadata": {},
   "outputs": [
    {
     "name": "stdout",
     "output_type": "stream",
     "text": [
      "pilha => [3, 4, '+', '*']\n",
      "no => *\n",
      "folha_direita => +\n"
     ]
    },
    {
     "ename": "SystemExit",
     "evalue": "erro operador repetido",
     "output_type": "error",
     "traceback": [
      "An exception has occurred, use %tb to see the full traceback.\n",
      "\u001b[1;31mSystemExit\u001b[0m\u001b[1;31m:\u001b[0m erro operador repetido\n"
     ]
    },
    {
     "name": "stderr",
     "output_type": "stream",
     "text": [
      "C:\\Users\\Palmito\\anaconda3\\lib\\site-packages\\IPython\\core\\interactiveshell.py:3445: UserWarning: To exit: use 'exit', 'quit', or Ctrl-D.\n",
      "  warn(\"To exit: use 'exit', 'quit', or Ctrl-D.\", stacklevel=1)\n"
     ]
    }
   ],
   "source": [
    "# Tem que retornar uma mensagem de Erro sobre dois operadores em sequencia\n",
    "calc_polon_revers([3, 4, '+', '*'])"
   ]
  },
  {
   "cell_type": "code",
   "execution_count": 14,
   "id": "eaba9009-e16b-47b7-ad23-576c84ab187a",
   "metadata": {},
   "outputs": [
    {
     "name": "stdout",
     "output_type": "stream",
     "text": [
      "pilha => [3, 4]\n",
      "no => 4\n"
     ]
    },
    {
     "ename": "SystemExit",
     "evalue": "Operador não pode ser numero",
     "output_type": "error",
     "traceback": [
      "An exception has occurred, use %tb to see the full traceback.\n",
      "\u001b[1;31mSystemExit\u001b[0m\u001b[1;31m:\u001b[0m Operador não pode ser numero\n"
     ]
    }
   ],
   "source": [
    "# Tem que retornar uma mensagem de Erro sobre dois numeros sem operador para calculo\n",
    "calc_polon_revers([3, 4])"
   ]
  },
  {
   "cell_type": "code",
   "execution_count": null,
   "id": "2d25831b-50b1-42fa-b326-3c2bb5cbb85e",
   "metadata": {},
   "outputs": [],
   "source": []
  }
 ],
 "metadata": {
  "kernelspec": {
   "display_name": "Python 3",
   "language": "python",
   "name": "python3"
  },
  "language_info": {
   "codemirror_mode": {
    "name": "ipython",
    "version": 3
   },
   "file_extension": ".py",
   "mimetype": "text/x-python",
   "name": "python",
   "nbconvert_exporter": "python",
   "pygments_lexer": "ipython3",
   "version": "3.7.10"
  }
 },
 "nbformat": 4,
 "nbformat_minor": 5
}
