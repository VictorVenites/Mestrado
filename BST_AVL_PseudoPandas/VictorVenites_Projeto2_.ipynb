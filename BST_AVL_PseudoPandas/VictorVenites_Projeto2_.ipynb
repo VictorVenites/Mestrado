{
 "cells": [
  {
   "cell_type": "markdown",
   "id": "5e65dc58-917a-4bc1-bccf-d2f40b352881",
   "metadata": {},
   "source": [
    "# Projeto 2 - Buscas de Árvore Binária e AVL\n",
    "\n",
    "- Autor: Victor Venites\n",
    "- Data: 25/10/2021\n",
    "- Disciplina: Algoritmos e Estrutura de Dados\n",
    "- Curso: Mestrado Profissional em Computação Aplicada\n",
    "- Instituição: Universidade Mackenzie"
   ]
  },
  {
   "cell_type": "markdown",
   "id": "518c1cba-43c4-4588-a447-bb44c9a83de8",
   "metadata": {},
   "source": [
    "## Introdução\n",
    "\n",
    "$\\;\\;\\;\\;$ O desafio neste projéto é fazer análises de dados, porem sem utilizar as bibliotecas conhecidas(Pandas ou até o Excel). Neste caso usamos indexação dos dados por meio das tecnicas de Busca de Árvore Binária(BST em inglês) e BST auto-balanceadas chamadas de AVL (dos inventores Adelson-Velsky and Landis). \n",
    "\n",
    "- Os testes foram feitos em um Notebook:\n",
    "    - Windows 10 Pro\n",
    "    - 16GB de memória RAM\n",
    "    - Processador Core I5 7300HQ de sétima geração com 2.5GHz\n",
    "    - Python 3.7.10\n",
    "\n",
    "- Para as Árvores BST e AVL compilei os códigos do autor do artigo abaixo, onde ele mostra um benchmark de comparação:\n",
    "    - https://medium.com/@aksh0001/avl-trees-in-python-bc3d0aeb9150\n",
    "    - Autor: Akshay Kumar\n",
    "    - Os comandos necesários para este experimento são chamados através das classe BST() e AVLTree()\n",
    "    - Como diferencial em relação á outros artigos do assunto, aqui o autor cria atributor com chave e valor.\n",
    "    - Ou seja, cada nó é um indice do dado da tabela guardado na variével key, e na variável val guardamos os indices das linhas em que este dado ocorre"
   ]
  },
  {
   "cell_type": "markdown",
   "id": "7a931867-4d36-4e0f-aa69-f94915ac233c",
   "metadata": {},
   "source": [
    "---"
   ]
  },
  {
   "cell_type": "markdown",
   "id": "8805bbb2-5d1a-4903-ab3e-bd57816ce7f0",
   "metadata": {},
   "source": [
    "## 1. Baixar CSV com dados\n",
    "\n",
    "$\\;\\;\\;\\;$ Para base de dados será utilizada a \"Breast Cancer de Wisconsin\", que mostra um dataset de características para cancer \"Maligno\" = 4 e \"Benigno\" = 2. As demais colunas são dados exames sobre características de uma célula possivelmente cancerigena.\n",
    "\n",
    "$\\;\\;\\;\\;$ Na leitura das linhas serão ignoradas as linhas com dados '?' no lugar de números\n",
    "\n",
    "- https://www.kaggle.com/saptarsi/breastcancer\n",
    "- https://archive.ics.uci.edu/ml/datasets/Breast+Cancer+Wisconsin+(Diagnostic)\n",
    "- https://scikit-learn.org/stable/modules/generated/sklearn.datasets.load_breast_cancer.html"
   ]
  },
  {
   "cell_type": "code",
   "execution_count": 1,
   "id": "651c8096-519f-4d3c-a992-f8ac27c2a214",
   "metadata": {},
   "outputs": [],
   "source": [
    "import csv"
   ]
  },
  {
   "cell_type": "code",
   "execution_count": 2,
   "id": "b42ccb89-4ddd-4417-9fe1-203990f605fc",
   "metadata": {},
   "outputs": [],
   "source": [
    "arquivo = \"breast-cancer-wisconsin.data\"\n",
    "colunas = [\"ID\", \"Clump_Thickness\", \"Cell_Size\", \"Cell_Shape\", \"Marginal_Adhesion\", \"Single_Epithelial_Cell_Size\",\n",
    "           \"Bare_Nuclei\", \"Bland_Cromatin\", \"Normal_Nucleoli\",\n",
    "           \"Mitoses\", \"Class\"]"
   ]
  },
  {
   "cell_type": "code",
   "execution_count": 3,
   "id": "b66ad6fc-cfc2-4406-8af9-d9c003100c53",
   "metadata": {},
   "outputs": [
    {
     "name": "stdout",
     "output_type": "stream",
     "text": [
      "Total de linhas 699 no CSV\n",
      "Total de linhas 683 na lista sem '?'\n"
     ]
    }
   ],
   "source": [
    "linhas = []\n",
    "with open(arquivo, 'r') as arquivo_csv:\n",
    "    csv_lido = csv.reader(arquivo_csv)\n",
    "    \n",
    "    # retira as linhas com dados ruins\n",
    "    lista_aux = []\n",
    "    for linha in csv_lido:\n",
    "        if '?' not in linha:\n",
    "            lista_aux.append(linha)\n",
    "    print(f\"Total de linhas {csv_lido.line_num} no CSV\")\n",
    "    \n",
    "    for indice, linha in enumerate(lista_aux):\n",
    "        linhas.append([indice, linha])\n",
    "    \n",
    "    print(f\"Total de linhas {len(linhas)} na lista sem '?'\")"
   ]
  },
  {
   "cell_type": "code",
   "execution_count": 4,
   "id": "bda717c3-1f97-4299-93e1-806a7c14326b",
   "metadata": {},
   "outputs": [
    {
     "data": {
      "text/plain": [
       "[[0, ['1000025', '5', '1', '1', '1', '2', '1', '3', '1', '1', '2']],\n",
       " [1, ['1002945', '5', '4', '4', '5', '7', '10', '3', '2', '1', '2']],\n",
       " [2, ['1015425', '3', '1', '1', '1', '2', '2', '3', '1', '1', '2']],\n",
       " [3, ['1016277', '6', '8', '8', '1', '3', '4', '3', '7', '1', '2']],\n",
       " [4, ['1017023', '4', '1', '1', '3', '2', '1', '3', '1', '1', '2']]]"
      ]
     },
     "execution_count": 4,
     "metadata": {},
     "output_type": "execute_result"
    }
   ],
   "source": [
    "linhas[:5]"
   ]
  },
  {
   "cell_type": "markdown",
   "id": "b10f71ac-33a9-4d73-953a-4d2939190c54",
   "metadata": {},
   "source": [
    "---"
   ]
  },
  {
   "cell_type": "markdown",
   "id": "b8fbafa0-1551-462e-b6b2-b365cd3caf15",
   "metadata": {},
   "source": [
    "## 2. Escrever rotinas para ler o arquivo e mapear os dados em uma Árvore Binária de Busca E AVL (com as características da base de dados). Vocês devem pensar na melhor forma de montar a estrutura de dados e o que carregar na estrutura."
   ]
  },
  {
   "cell_type": "markdown",
   "id": "2da6db88-2c71-479a-bb34-c9ba745fbe2e",
   "metadata": {},
   "source": [
    "- Iterar pela linha, e iterar pela coluna inserindo na arvore de cada coluna em um dicionário chave/valor do python"
   ]
  },
  {
   "cell_type": "code",
   "execution_count": 5,
   "id": "138e1e28-ded0-4f90-ab41-a654c7e2f863",
   "metadata": {},
   "outputs": [],
   "source": [
    "from bst_e_avl import *"
   ]
  },
  {
   "cell_type": "code",
   "execution_count": 6,
   "id": "88fead3d-e782-4bd1-b432-433f13e67e7b",
   "metadata": {},
   "outputs": [],
   "source": [
    "def mapear_df(dados, arvore_index):\n",
    "    dicionario_colunas = dict()\n",
    "\n",
    "    for coluna in colunas:\n",
    "        dicionario_colunas.update({coluna: arvore_index()})\n",
    "        \n",
    "    for indice, linha in linhas:\n",
    "        #print(f\"linha {indice}\")\n",
    "        for coluna, dado in zip(colunas, linha):\n",
    "            #Chave, valor\n",
    "            dicionario_colunas[coluna].insert(int(dado), [indice])\n",
    "            if dicionario_colunas[coluna].get(int(dado)).val != [indice]:\n",
    "                dicionario_colunas[coluna].get(int(dado)).val.append(indice)\n",
    "\n",
    "    return dicionario_colunas"
   ]
  },
  {
   "cell_type": "code",
   "execution_count": 7,
   "id": "dbcc878f-7f4f-4d2d-bc37-f0d064e1da63",
   "metadata": {},
   "outputs": [],
   "source": [
    "import time\n",
    "import pandas as pd"
   ]
  },
  {
   "cell_type": "code",
   "execution_count": 8,
   "id": "9d6623e4-bccf-44f4-8cf7-e47cba2a1791",
   "metadata": {},
   "outputs": [
    {
     "data": {
      "text/html": [
       "<div>\n",
       "<style scoped>\n",
       "    .dataframe tbody tr th:only-of-type {\n",
       "        vertical-align: middle;\n",
       "    }\n",
       "\n",
       "    .dataframe tbody tr th {\n",
       "        vertical-align: top;\n",
       "    }\n",
       "\n",
       "    .dataframe thead th {\n",
       "        text-align: right;\n",
       "    }\n",
       "</style>\n",
       "<table border=\"1\" class=\"dataframe\">\n",
       "  <thead>\n",
       "    <tr style=\"text-align: right;\">\n",
       "      <th></th>\n",
       "      <th>Teste</th>\n",
       "      <th>Colunas</th>\n",
       "      <th>Tempo BST</th>\n",
       "      <th>Tempo AVL</th>\n",
       "    </tr>\n",
       "  </thead>\n",
       "  <tbody>\n",
       "  </tbody>\n",
       "</table>\n",
       "</div>"
      ],
      "text/plain": [
       "Empty DataFrame\n",
       "Columns: [Teste, Colunas, Tempo BST, Tempo AVL]\n",
       "Index: []"
      ]
     },
     "execution_count": 8,
     "metadata": {},
     "output_type": "execute_result"
    }
   ],
   "source": [
    "df_benchmark = pd.DataFrame(columns = ['Teste', 'Colunas', 'Tempo BST', 'Tempo AVL'])\n",
    "df_benchmark"
   ]
  },
  {
   "cell_type": "code",
   "execution_count": 9,
   "id": "cd12635d-6c45-480a-8f4b-c1ee4a311aa6",
   "metadata": {},
   "outputs": [
    {
     "data": {
      "text/plain": [
       "0.09299969673156738"
      ]
     },
     "execution_count": 9,
     "metadata": {},
     "output_type": "execute_result"
    }
   ],
   "source": [
    "Tempo_inicial_insert_BST = time.time()\n",
    "indexacao_bst = mapear_df(linhas, BST)\n",
    "Tempo_final_insert_BST = time.time() - Tempo_inicial_insert_BST\n",
    "Tempo_final_insert_BST"
   ]
  },
  {
   "cell_type": "code",
   "execution_count": 10,
   "id": "c57d981c-3d3e-44fd-a64e-3ad0a8e4994e",
   "metadata": {},
   "outputs": [
    {
     "data": {
      "text/plain": [
       "0.05699777603149414"
      ]
     },
     "execution_count": 10,
     "metadata": {},
     "output_type": "execute_result"
    }
   ],
   "source": [
    "Tempo_inicial_insert_AVL = time.time()\n",
    "indexacao_avl = mapear_df(linhas, AVLTree)\n",
    "Tempo_final_insert_AVL = time.time() - Tempo_inicial_insert_AVL\n",
    "Tempo_final_insert_AVL"
   ]
  },
  {
   "cell_type": "code",
   "execution_count": 11,
   "id": "faeded71-0333-40e9-8381-f560823cd0aa",
   "metadata": {},
   "outputs": [
    {
     "data": {
      "text/html": [
       "<div>\n",
       "<style scoped>\n",
       "    .dataframe tbody tr th:only-of-type {\n",
       "        vertical-align: middle;\n",
       "    }\n",
       "\n",
       "    .dataframe tbody tr th {\n",
       "        vertical-align: top;\n",
       "    }\n",
       "\n",
       "    .dataframe thead th {\n",
       "        text-align: right;\n",
       "    }\n",
       "</style>\n",
       "<table border=\"1\" class=\"dataframe\">\n",
       "  <thead>\n",
       "    <tr style=\"text-align: right;\">\n",
       "      <th></th>\n",
       "      <th>Teste</th>\n",
       "      <th>Colunas</th>\n",
       "      <th>Tempo BST</th>\n",
       "      <th>Tempo AVL</th>\n",
       "    </tr>\n",
       "  </thead>\n",
       "  <tbody>\n",
       "    <tr>\n",
       "      <th>0</th>\n",
       "      <td>Indexação do CSV</td>\n",
       "      <td>Todas</td>\n",
       "      <td>0.093</td>\n",
       "      <td>0.056998</td>\n",
       "    </tr>\n",
       "  </tbody>\n",
       "</table>\n",
       "</div>"
      ],
      "text/plain": [
       "              Teste Colunas  Tempo BST  Tempo AVL\n",
       "0  Indexação do CSV   Todas      0.093   0.056998"
      ]
     },
     "execution_count": 11,
     "metadata": {},
     "output_type": "execute_result"
    }
   ],
   "source": [
    "salvar = [\"Indexação do CSV\", \"Todas\", Tempo_final_insert_BST, Tempo_final_insert_AVL]\n",
    "df_benchmark.loc[len(df_benchmark)] = salvar\n",
    "df_benchmark"
   ]
  },
  {
   "cell_type": "markdown",
   "id": "f5ae683d-3127-48b9-b627-e290110227de",
   "metadata": {},
   "source": [
    "---"
   ]
  },
  {
   "cell_type": "markdown",
   "id": "3bd4a0cb-fd48-46b1-a1a4-4b4c614ab2ad",
   "metadata": {},
   "source": [
    "## 3. Escrever métodos para análise de dados, como buscar determinados atributos(data science). Cada grupo irá planejar as questões que deseja responder sobre os dados mapeados na estrutura montada.\n",
    "\n",
    "$\\;\\;\\;\\;$ Para esta etapa serão usados como inspiração os comandos conhecidos do Pandas e do T-SQL.\n",
    "\n",
    "- Saber a altura das indexações das colunas\n",
    "- Filtrar com condição de um dado especifico de uma coluna, e depois de todas\n",
    "- Re-ordenar a base de dados de acordo com a ordem de uma coluna, e depois de todas\n",
    "- Contar a frequencia dos dados na coluna, e depois de todas\n",
    "- Listar os dados estatisticos simples, como máximo, minimo, média, etc..."
   ]
  },
  {
   "cell_type": "markdown",
   "id": "f515de33-ecc0-4449-8779-d37c8386d0fb",
   "metadata": {},
   "source": [
    "### 3.1. Trazer a altura das arvores de todas as colunas"
   ]
  },
  {
   "cell_type": "code",
   "execution_count": 12,
   "id": "03aaaea3-2184-4b6d-ae31-e67bbfb4ffe8",
   "metadata": {},
   "outputs": [
    {
     "data": {
      "text/plain": [
       "265"
      ]
     },
     "execution_count": 12,
     "metadata": {},
     "output_type": "execute_result"
    }
   ],
   "source": [
    "indexacao_bst[\"ID\"].get_height()"
   ]
  },
  {
   "cell_type": "code",
   "execution_count": 13,
   "id": "03393017-4716-45aa-9c40-5664a1802321",
   "metadata": {},
   "outputs": [
    {
     "data": {
      "text/plain": [
       "11"
      ]
     },
     "execution_count": 13,
     "metadata": {},
     "output_type": "execute_result"
    }
   ],
   "source": [
    "indexacao_avl[\"ID\"].get_height()"
   ]
  },
  {
   "cell_type": "code",
   "execution_count": 14,
   "id": "4351943b-8254-4d8f-9d22-f7b1d9f6f33e",
   "metadata": {},
   "outputs": [],
   "source": [
    "def altura_arvore(lista_indexada, coluna):\n",
    "    resultado = lista_indexada[coluna].get_height()\n",
    "    return resultado"
   ]
  },
  {
   "cell_type": "code",
   "execution_count": 15,
   "id": "dc7cd92c-771e-42b5-b9b0-b975a303e313",
   "metadata": {},
   "outputs": [],
   "source": [
    "Tempo_inicial_altura_BST = time.time()\n",
    "altura_arvore(indexacao_bst, \"ID\")\n",
    "Tempo_final_altura_BST = time.time() - Tempo_inicial_altura_BST"
   ]
  },
  {
   "cell_type": "code",
   "execution_count": 16,
   "id": "cae3a981-fabe-490d-bfb7-1d7b074a6acf",
   "metadata": {},
   "outputs": [],
   "source": [
    "Tempo_inicial_altura_AVL = time.time()\n",
    "altura_arvore(indexacao_avl, \"ID\")\n",
    "Tempo_final_altura_AVL = time.time() - Tempo_inicial_altura_AVL"
   ]
  },
  {
   "cell_type": "code",
   "execution_count": 17,
   "id": "a9b5b1d7-93d4-4070-b787-7cf24dd03800",
   "metadata": {},
   "outputs": [
    {
     "data": {
      "text/html": [
       "<div>\n",
       "<style scoped>\n",
       "    .dataframe tbody tr th:only-of-type {\n",
       "        vertical-align: middle;\n",
       "    }\n",
       "\n",
       "    .dataframe tbody tr th {\n",
       "        vertical-align: top;\n",
       "    }\n",
       "\n",
       "    .dataframe thead th {\n",
       "        text-align: right;\n",
       "    }\n",
       "</style>\n",
       "<table border=\"1\" class=\"dataframe\">\n",
       "  <thead>\n",
       "    <tr style=\"text-align: right;\">\n",
       "      <th></th>\n",
       "      <th>Teste</th>\n",
       "      <th>Colunas</th>\n",
       "      <th>Tempo BST</th>\n",
       "      <th>Tempo AVL</th>\n",
       "    </tr>\n",
       "  </thead>\n",
       "  <tbody>\n",
       "    <tr>\n",
       "      <th>0</th>\n",
       "      <td>Indexação do CSV</td>\n",
       "      <td>Todas</td>\n",
       "      <td>0.093</td>\n",
       "      <td>0.056998</td>\n",
       "    </tr>\n",
       "    <tr>\n",
       "      <th>1</th>\n",
       "      <td>Altura da Arvore</td>\n",
       "      <td>ID</td>\n",
       "      <td>0.000</td>\n",
       "      <td>0.000000</td>\n",
       "    </tr>\n",
       "  </tbody>\n",
       "</table>\n",
       "</div>"
      ],
      "text/plain": [
       "              Teste Colunas  Tempo BST  Tempo AVL\n",
       "0  Indexação do CSV   Todas      0.093   0.056998\n",
       "1  Altura da Arvore      ID      0.000   0.000000"
      ]
     },
     "execution_count": 17,
     "metadata": {},
     "output_type": "execute_result"
    }
   ],
   "source": [
    "salvar = [\"Altura da Arvore\", \"ID\", Tempo_final_altura_BST, Tempo_final_altura_AVL]\n",
    "df_benchmark.loc[len(df_benchmark)] = salvar\n",
    "df_benchmark"
   ]
  },
  {
   "cell_type": "code",
   "execution_count": 18,
   "id": "d896eee3-8986-4030-a515-05e89bcb0394",
   "metadata": {},
   "outputs": [],
   "source": [
    "Tempo_inicial_altura_BST = time.time()\n",
    "for coluna in list(indexacao_bst.keys()):\n",
    "    altura_arvore(indexacao_bst, coluna)\n",
    "Tempo_final_altura_BST = time.time() - Tempo_inicial_altura_BST"
   ]
  },
  {
   "cell_type": "code",
   "execution_count": 19,
   "id": "462141b9-9579-4902-a6f2-faa3eee509b1",
   "metadata": {},
   "outputs": [],
   "source": [
    "Tempo_inicial_altura_AVL = time.time()\n",
    "for coluna in list(indexacao_avl.keys()):\n",
    "    altura_arvore(indexacao_avl, coluna)\n",
    "Tempo_final_altura_AVL = time.time() - Tempo_inicial_altura_AVL"
   ]
  },
  {
   "cell_type": "code",
   "execution_count": 20,
   "id": "b5d36ddf-efcf-4bce-8efb-cff3eaf4c27b",
   "metadata": {},
   "outputs": [
    {
     "data": {
      "text/html": [
       "<div>\n",
       "<style scoped>\n",
       "    .dataframe tbody tr th:only-of-type {\n",
       "        vertical-align: middle;\n",
       "    }\n",
       "\n",
       "    .dataframe tbody tr th {\n",
       "        vertical-align: top;\n",
       "    }\n",
       "\n",
       "    .dataframe thead th {\n",
       "        text-align: right;\n",
       "    }\n",
       "</style>\n",
       "<table border=\"1\" class=\"dataframe\">\n",
       "  <thead>\n",
       "    <tr style=\"text-align: right;\">\n",
       "      <th></th>\n",
       "      <th>Teste</th>\n",
       "      <th>Colunas</th>\n",
       "      <th>Tempo BST</th>\n",
       "      <th>Tempo AVL</th>\n",
       "    </tr>\n",
       "  </thead>\n",
       "  <tbody>\n",
       "    <tr>\n",
       "      <th>0</th>\n",
       "      <td>Indexação do CSV</td>\n",
       "      <td>Todas</td>\n",
       "      <td>0.093000</td>\n",
       "      <td>0.056998</td>\n",
       "    </tr>\n",
       "    <tr>\n",
       "      <th>1</th>\n",
       "      <td>Altura da Arvore</td>\n",
       "      <td>ID</td>\n",
       "      <td>0.000000</td>\n",
       "      <td>0.000000</td>\n",
       "    </tr>\n",
       "    <tr>\n",
       "      <th>2</th>\n",
       "      <td>Altura da Arvore</td>\n",
       "      <td>Todas</td>\n",
       "      <td>0.000999</td>\n",
       "      <td>0.000998</td>\n",
       "    </tr>\n",
       "  </tbody>\n",
       "</table>\n",
       "</div>"
      ],
      "text/plain": [
       "              Teste Colunas  Tempo BST  Tempo AVL\n",
       "0  Indexação do CSV   Todas   0.093000   0.056998\n",
       "1  Altura da Arvore      ID   0.000000   0.000000\n",
       "2  Altura da Arvore   Todas   0.000999   0.000998"
      ]
     },
     "execution_count": 20,
     "metadata": {},
     "output_type": "execute_result"
    }
   ],
   "source": [
    "salvar = [\"Altura da Arvore\", \"Todas\", Tempo_final_altura_BST, Tempo_final_altura_AVL]\n",
    "df_benchmark.loc[len(df_benchmark)] = salvar\n",
    "df_benchmark"
   ]
  },
  {
   "cell_type": "markdown",
   "id": "f3ad1011-d9da-41e4-8abf-523933b36941",
   "metadata": {},
   "source": [
    "### 3.2. Filtro com condição:\n",
    "    - Select * WHERE indexacao_avl[\"Mitoses\"] == 10\n",
    "    - dicionario_colunas[coluna].get(dado).val"
   ]
  },
  {
   "cell_type": "code",
   "execution_count": 21,
   "id": "bcf8d049-c001-4bf3-b93f-03aa6b927974",
   "metadata": {},
   "outputs": [
    {
     "data": {
      "text/plain": [
       "[63, 69, 83, 96, 161, 181, 229, 231, 277, 290, 346, 467, 597, 632]"
      ]
     },
     "execution_count": 21,
     "metadata": {},
     "output_type": "execute_result"
    }
   ],
   "source": [
    "indices_filtro = indexacao_avl[\"Mitoses\"].get(10).val\n",
    "indices_filtro"
   ]
  },
  {
   "cell_type": "code",
   "execution_count": 22,
   "id": "15c1e043-25c1-41b6-8a40-ff7a7e86fc40",
   "metadata": {},
   "outputs": [
    {
     "data": {
      "text/plain": [
       "[682, ['897471', '4', '8', '8', '5', '4', '5', '10', '4', '1', '4']]"
      ]
     },
     "execution_count": 22,
     "metadata": {},
     "output_type": "execute_result"
    }
   ],
   "source": [
    "# Exemplo de Dado\n",
    "linhas[-1]"
   ]
  },
  {
   "cell_type": "code",
   "execution_count": 23,
   "id": "e1e17c94-970a-434f-8031-cb82d1ce62de",
   "metadata": {},
   "outputs": [],
   "source": [
    "def filtrar_base(lista, lista_indexada, coluna, valor):\n",
    "    indices_filtro = lista_indexada[coluna].get(valor).val\n",
    "    resultados = [[\"Indice\", colunas]]\n",
    "    resultados.extend([lista[x] for x in indices_filtro])\n",
    "    return resultados"
   ]
  },
  {
   "cell_type": "code",
   "execution_count": 24,
   "id": "0491ba4d-fd2e-46e4-abb1-670c44c4b6a5",
   "metadata": {},
   "outputs": [
    {
     "data": {
      "text/plain": [
       "[['Indice',\n",
       "  ['ID',\n",
       "   'Clump_Thickness',\n",
       "   'Cell_Size',\n",
       "   'Cell_Shape',\n",
       "   'Marginal_Adhesion',\n",
       "   'Single_Epithelial_Cell_Size',\n",
       "   'Bare_Nuclei',\n",
       "   'Bland_Cromatin',\n",
       "   'Normal_Nucleoli',\n",
       "   'Mitoses',\n",
       "   'Class']],\n",
       " [63, ['1116998', '10', '4', '2', '1', '3', '2', '4', '3', '10', '4']],\n",
       " [69, ['1123061', '6', '10', '2', '8', '10', '2', '7', '8', '10', '4']],\n",
       " [83, ['1147748', '5', '10', '6', '1', '10', '4', '4', '10', '10', '4']],\n",
       " [96, ['1165926', '9', '6', '9', '2', '10', '6', '2', '9', '10', '4']],\n",
       " [161, ['1198128', '10', '8', '10', '10', '6', '1', '3', '1', '10', '4']],\n",
       " [181, ['1206841', '10', '5', '6', '10', '6', '10', '7', '7', '10', '4']],\n",
       " [229, ['1241559', '10', '8', '8', '2', '8', '10', '4', '8', '10', '4']],\n",
       " [231, ['1242364', '8', '10', '10', '8', '6', '9', '3', '10', '10', '4']],\n",
       " [277, ['529329', '10', '10', '10', '10', '10', '10', '4', '10', '10', '4']],\n",
       " [290, ['640744', '10', '10', '10', '7', '9', '10', '7', '10', '10', '4']],\n",
       " [346, ['877291', '6', '10', '10', '10', '10', '10', '8', '10', '10', '4']],\n",
       " [467, ['1318169', '9', '10', '10', '10', '10', '5', '10', '10', '10', '4']],\n",
       " [597, ['822829', '8', '10', '10', '10', '6', '10', '10', '10', '10', '4']],\n",
       " [632, ['1315807', '5', '10', '10', '10', '10', '2', '10', '10', '10', '4']]]"
      ]
     },
     "execution_count": 24,
     "metadata": {},
     "output_type": "execute_result"
    }
   ],
   "source": [
    "filtrar_base(linhas, indexacao_bst, \"Mitoses\", 10)"
   ]
  },
  {
   "cell_type": "code",
   "execution_count": 25,
   "id": "f371b14e-9bff-4be1-ad62-a7a0e3d31ab0",
   "metadata": {},
   "outputs": [],
   "source": [
    "Tempo_inicial_filtro_BST = time.time()\n",
    "filtrar_base(linhas, indexacao_bst, \"Mitoses\", 10)\n",
    "Tempo_final_filtro_BST = time.time() - Tempo_inicial_filtro_BST"
   ]
  },
  {
   "cell_type": "code",
   "execution_count": 26,
   "id": "5745d65c-6ab7-4cce-bc05-08abd3d4d9f0",
   "metadata": {},
   "outputs": [],
   "source": [
    "Tempo_inicial_filtro_AVL = time.time()\n",
    "filtrar_base(linhas, indexacao_avl, \"Mitoses\", 10)\n",
    "Tempo_final_filtro_AVL = time.time() - Tempo_inicial_filtro_AVL"
   ]
  },
  {
   "cell_type": "code",
   "execution_count": 27,
   "id": "9d798c16-7abd-47a8-8353-b73879674d7b",
   "metadata": {},
   "outputs": [
    {
     "data": {
      "text/html": [
       "<div>\n",
       "<style scoped>\n",
       "    .dataframe tbody tr th:only-of-type {\n",
       "        vertical-align: middle;\n",
       "    }\n",
       "\n",
       "    .dataframe tbody tr th {\n",
       "        vertical-align: top;\n",
       "    }\n",
       "\n",
       "    .dataframe thead th {\n",
       "        text-align: right;\n",
       "    }\n",
       "</style>\n",
       "<table border=\"1\" class=\"dataframe\">\n",
       "  <thead>\n",
       "    <tr style=\"text-align: right;\">\n",
       "      <th></th>\n",
       "      <th>Teste</th>\n",
       "      <th>Colunas</th>\n",
       "      <th>Tempo BST</th>\n",
       "      <th>Tempo AVL</th>\n",
       "    </tr>\n",
       "  </thead>\n",
       "  <tbody>\n",
       "    <tr>\n",
       "      <th>0</th>\n",
       "      <td>Indexação do CSV</td>\n",
       "      <td>Todas</td>\n",
       "      <td>0.093000</td>\n",
       "      <td>0.056998</td>\n",
       "    </tr>\n",
       "    <tr>\n",
       "      <th>1</th>\n",
       "      <td>Altura da Arvore</td>\n",
       "      <td>ID</td>\n",
       "      <td>0.000000</td>\n",
       "      <td>0.000000</td>\n",
       "    </tr>\n",
       "    <tr>\n",
       "      <th>2</th>\n",
       "      <td>Altura da Arvore</td>\n",
       "      <td>Todas</td>\n",
       "      <td>0.000999</td>\n",
       "      <td>0.000998</td>\n",
       "    </tr>\n",
       "    <tr>\n",
       "      <th>3</th>\n",
       "      <td>Filtro == 10</td>\n",
       "      <td>Mitoses</td>\n",
       "      <td>0.000000</td>\n",
       "      <td>0.000000</td>\n",
       "    </tr>\n",
       "  </tbody>\n",
       "</table>\n",
       "</div>"
      ],
      "text/plain": [
       "              Teste  Colunas  Tempo BST  Tempo AVL\n",
       "0  Indexação do CSV    Todas   0.093000   0.056998\n",
       "1  Altura da Arvore       ID   0.000000   0.000000\n",
       "2  Altura da Arvore    Todas   0.000999   0.000998\n",
       "3      Filtro == 10  Mitoses   0.000000   0.000000"
      ]
     },
     "execution_count": 27,
     "metadata": {},
     "output_type": "execute_result"
    }
   ],
   "source": [
    "salvar = [\"Filtro == 10\", \"Mitoses\", Tempo_final_filtro_BST, Tempo_final_filtro_AVL]\n",
    "df_benchmark.loc[len(df_benchmark)] = salvar\n",
    "df_benchmark"
   ]
  },
  {
   "cell_type": "code",
   "execution_count": 28,
   "id": "46e8821e-3c14-4a31-9668-970a7c91c82d",
   "metadata": {},
   "outputs": [],
   "source": [
    "Tempo_inicial_filtro_BST = time.time()\n",
    "for coluna in list(indexacao_bst.keys()):\n",
    "    filtrar_base(linhas, indexacao_bst, coluna, indexacao_bst[coluna].get_max())\n",
    "Tempo_final_filtro_BST = time.time() - Tempo_inicial_filtro_BST"
   ]
  },
  {
   "cell_type": "code",
   "execution_count": 29,
   "id": "09bf4a39-2519-4ace-b2cc-c6376a8733e1",
   "metadata": {},
   "outputs": [],
   "source": [
    "Tempo_inicial_filtro_AVL = time.time()\n",
    "for coluna in list(indexacao_avl.keys()):\n",
    "    filtrar_base(linhas, indexacao_avl, coluna, indexacao_avl[coluna].get_max())\n",
    "Tempo_final_filtro_AVL = time.time() - Tempo_inicial_filtro_AVL"
   ]
  },
  {
   "cell_type": "code",
   "execution_count": 30,
   "id": "253d0d5d-738c-4689-a4bf-49a6e0c3001a",
   "metadata": {},
   "outputs": [
    {
     "data": {
      "text/html": [
       "<div>\n",
       "<style scoped>\n",
       "    .dataframe tbody tr th:only-of-type {\n",
       "        vertical-align: middle;\n",
       "    }\n",
       "\n",
       "    .dataframe tbody tr th {\n",
       "        vertical-align: top;\n",
       "    }\n",
       "\n",
       "    .dataframe thead th {\n",
       "        text-align: right;\n",
       "    }\n",
       "</style>\n",
       "<table border=\"1\" class=\"dataframe\">\n",
       "  <thead>\n",
       "    <tr style=\"text-align: right;\">\n",
       "      <th></th>\n",
       "      <th>Teste</th>\n",
       "      <th>Colunas</th>\n",
       "      <th>Tempo BST</th>\n",
       "      <th>Tempo AVL</th>\n",
       "    </tr>\n",
       "  </thead>\n",
       "  <tbody>\n",
       "    <tr>\n",
       "      <th>0</th>\n",
       "      <td>Indexação do CSV</td>\n",
       "      <td>Todas</td>\n",
       "      <td>0.093000</td>\n",
       "      <td>0.056998</td>\n",
       "    </tr>\n",
       "    <tr>\n",
       "      <th>1</th>\n",
       "      <td>Altura da Arvore</td>\n",
       "      <td>ID</td>\n",
       "      <td>0.000000</td>\n",
       "      <td>0.000000</td>\n",
       "    </tr>\n",
       "    <tr>\n",
       "      <th>2</th>\n",
       "      <td>Altura da Arvore</td>\n",
       "      <td>Todas</td>\n",
       "      <td>0.000999</td>\n",
       "      <td>0.000998</td>\n",
       "    </tr>\n",
       "    <tr>\n",
       "      <th>3</th>\n",
       "      <td>Filtro == 10</td>\n",
       "      <td>Mitoses</td>\n",
       "      <td>0.000000</td>\n",
       "      <td>0.000000</td>\n",
       "    </tr>\n",
       "    <tr>\n",
       "      <th>4</th>\n",
       "      <td>Filtro == Maior</td>\n",
       "      <td>Todas</td>\n",
       "      <td>0.001001</td>\n",
       "      <td>0.001001</td>\n",
       "    </tr>\n",
       "  </tbody>\n",
       "</table>\n",
       "</div>"
      ],
      "text/plain": [
       "              Teste  Colunas  Tempo BST  Tempo AVL\n",
       "0  Indexação do CSV    Todas   0.093000   0.056998\n",
       "1  Altura da Arvore       ID   0.000000   0.000000\n",
       "2  Altura da Arvore    Todas   0.000999   0.000998\n",
       "3      Filtro == 10  Mitoses   0.000000   0.000000\n",
       "4   Filtro == Maior    Todas   0.001001   0.001001"
      ]
     },
     "execution_count": 30,
     "metadata": {},
     "output_type": "execute_result"
    }
   ],
   "source": [
    "salvar = [\"Filtro == Maior\", \"Todas\", Tempo_final_filtro_BST, Tempo_final_filtro_AVL]\n",
    "df_benchmark.loc[len(df_benchmark)] = salvar\n",
    "df_benchmark"
   ]
  },
  {
   "cell_type": "markdown",
   "id": "41e84818-b7f8-496c-82e8-ed2401ecb40e",
   "metadata": {},
   "source": [
    "### 3.3. Order By Dados da Coluna\n",
    "    - print_in_order(indexacao_avl[coluna_exemplo].root)\n",
    "    - SELECT * WHERE dado_coluna == [lista ordenada]"
   ]
  },
  {
   "cell_type": "code",
   "execution_count": 31,
   "id": "3aa1c77a-1e63-49de-b02c-ac5298e727fe",
   "metadata": {},
   "outputs": [],
   "source": [
    "def print_in_order(root: TreeNode, lista_ordenada):\n",
    "    \"\"\"\n",
    "    Prints a in-order traversal of a binary tree: Left, Root, Right\n",
    "    :param root: root of tree\n",
    "    :return: none\n",
    "    :Time: O(N)\n",
    "    :Space: O(N) stack space due to recursion\n",
    "    \"\"\"\n",
    "    if root is None:\n",
    "        return \n",
    "\n",
    "    print_in_order(root.left, lista_ordenada)\n",
    "    #print(root.key)\n",
    "    lista_ordenada.append(root.key)\n",
    "    print_in_order(root.right, lista_ordenada)\n",
    "    \n",
    "    resultado = list(lista_ordenada)\n",
    "    return resultado\n",
    "\n",
    "def listar_dados_ordenados(lista_indexada):\n",
    "    return print_in_order(lista_indexada, [])"
   ]
  },
  {
   "cell_type": "code",
   "execution_count": 32,
   "id": "e2b5a429-aa7d-4487-99f5-73c0b2d2f4db",
   "metadata": {},
   "outputs": [
    {
     "data": {
      "text/plain": [
       "[1, 2, 3, 4, 5, 6, 7, 8, 10]"
      ]
     },
     "execution_count": 32,
     "metadata": {},
     "output_type": "execute_result"
    }
   ],
   "source": [
    "# Exemplo: teste\n",
    "listar_dados_ordenados(indexacao_avl[\"Mitoses\"].root)"
   ]
  },
  {
   "cell_type": "code",
   "execution_count": 33,
   "id": "6e6de733-97bd-4d16-8249-19dd97e4ceea",
   "metadata": {},
   "outputs": [],
   "source": [
    "def order_by(linhas, lista_indexada, coluna):\n",
    "    dados_unicos = listar_dados_ordenados(lista_indexada[coluna].root)\n",
    "    lista_ordernada_by = []\n",
    "    for dado in dados_unicos:\n",
    "        lista_ordernada_by.extend(filtrar_base(linhas, lista_indexada, coluna, dado))\n",
    "    return lista_ordernada_by"
   ]
  },
  {
   "cell_type": "code",
   "execution_count": 34,
   "id": "8784b7f3-a302-46b9-b8ae-8ab6a8f368bf",
   "metadata": {},
   "outputs": [
    {
     "data": {
      "text/plain": [
       "[['Indice',\n",
       "  ['ID',\n",
       "   'Clump_Thickness',\n",
       "   'Cell_Size',\n",
       "   'Cell_Shape',\n",
       "   'Marginal_Adhesion',\n",
       "   'Single_Epithelial_Cell_Size',\n",
       "   'Bare_Nuclei',\n",
       "   'Bland_Cromatin',\n",
       "   'Normal_Nucleoli',\n",
       "   'Mitoses',\n",
       "   'Class']],\n",
       " [6, ['1018099', '1', '1', '1', '1', '2', '10', '3', '1', '1', '2']],\n",
       " [10, ['1035283', '1', '1', '1', '1', '1', '1', '3', '1', '1', '2']],\n",
       " [13, ['1043999', '1', '1', '1', '1', '2', '3', '3', '1', '1', '2']],\n",
       " [23, ['1059552', '1', '1', '1', '1', '2', '1', '3', '1', '1', '2']]]"
      ]
     },
     "execution_count": 34,
     "metadata": {},
     "output_type": "execute_result"
    }
   ],
   "source": [
    "order_by(linhas, indexacao_bst, \"Clump_Thickness\")[:5]"
   ]
  },
  {
   "cell_type": "code",
   "execution_count": 35,
   "id": "fa50d5c5-fad0-471d-8854-2a0e1bdf4b20",
   "metadata": {},
   "outputs": [
    {
     "data": {
      "text/plain": [
       "[['Indice',\n",
       "  ['ID',\n",
       "   'Clump_Thickness',\n",
       "   'Cell_Size',\n",
       "   'Cell_Shape',\n",
       "   'Marginal_Adhesion',\n",
       "   'Single_Epithelial_Cell_Size',\n",
       "   'Bare_Nuclei',\n",
       "   'Bland_Cromatin',\n",
       "   'Normal_Nucleoli',\n",
       "   'Mitoses',\n",
       "   'Class']],\n",
       " [6, ['1018099', '1', '1', '1', '1', '2', '10', '3', '1', '1', '2']],\n",
       " [10, ['1035283', '1', '1', '1', '1', '1', '1', '3', '1', '1', '2']],\n",
       " [13, ['1043999', '1', '1', '1', '1', '2', '3', '3', '1', '1', '2']],\n",
       " [23, ['1059552', '1', '1', '1', '1', '2', '1', '3', '1', '1', '2']]]"
      ]
     },
     "execution_count": 35,
     "metadata": {},
     "output_type": "execute_result"
    }
   ],
   "source": [
    "order_by(linhas, indexacao_avl, \"Clump_Thickness\")[:5]"
   ]
  },
  {
   "cell_type": "code",
   "execution_count": 36,
   "id": "f7d0927b-3396-489b-9a92-6a953df838da",
   "metadata": {},
   "outputs": [],
   "source": [
    "Tempo_inicial_ordenar_BST = time.time()\n",
    "order_by(linhas, indexacao_bst, \"Clump_Thickness\")\n",
    "Tempo_final_ordenar_BST = time.time() - Tempo_inicial_ordenar_BST"
   ]
  },
  {
   "cell_type": "code",
   "execution_count": 37,
   "id": "5778e3d6-1f31-41a4-9d71-81fa7a93f858",
   "metadata": {},
   "outputs": [],
   "source": [
    "Tempo_inicial_ordenar_AVL = time.time()\n",
    "order_by(linhas, indexacao_avl, \"Clump_Thickness\")\n",
    "Tempo_final_ordenar_AVL = time.time() - Tempo_inicial_ordenar_AVL"
   ]
  },
  {
   "cell_type": "code",
   "execution_count": 38,
   "id": "0d82b54b-4c59-448a-b6b7-98b2c1c41c0d",
   "metadata": {},
   "outputs": [
    {
     "data": {
      "text/html": [
       "<div>\n",
       "<style scoped>\n",
       "    .dataframe tbody tr th:only-of-type {\n",
       "        vertical-align: middle;\n",
       "    }\n",
       "\n",
       "    .dataframe tbody tr th {\n",
       "        vertical-align: top;\n",
       "    }\n",
       "\n",
       "    .dataframe thead th {\n",
       "        text-align: right;\n",
       "    }\n",
       "</style>\n",
       "<table border=\"1\" class=\"dataframe\">\n",
       "  <thead>\n",
       "    <tr style=\"text-align: right;\">\n",
       "      <th></th>\n",
       "      <th>Teste</th>\n",
       "      <th>Colunas</th>\n",
       "      <th>Tempo BST</th>\n",
       "      <th>Tempo AVL</th>\n",
       "    </tr>\n",
       "  </thead>\n",
       "  <tbody>\n",
       "    <tr>\n",
       "      <th>0</th>\n",
       "      <td>Indexação do CSV</td>\n",
       "      <td>Todas</td>\n",
       "      <td>0.093000</td>\n",
       "      <td>0.056998</td>\n",
       "    </tr>\n",
       "    <tr>\n",
       "      <th>1</th>\n",
       "      <td>Altura da Arvore</td>\n",
       "      <td>ID</td>\n",
       "      <td>0.000000</td>\n",
       "      <td>0.000000</td>\n",
       "    </tr>\n",
       "    <tr>\n",
       "      <th>2</th>\n",
       "      <td>Altura da Arvore</td>\n",
       "      <td>Todas</td>\n",
       "      <td>0.000999</td>\n",
       "      <td>0.000998</td>\n",
       "    </tr>\n",
       "    <tr>\n",
       "      <th>3</th>\n",
       "      <td>Filtro == 10</td>\n",
       "      <td>Mitoses</td>\n",
       "      <td>0.000000</td>\n",
       "      <td>0.000000</td>\n",
       "    </tr>\n",
       "    <tr>\n",
       "      <th>4</th>\n",
       "      <td>Filtro == Maior</td>\n",
       "      <td>Todas</td>\n",
       "      <td>0.001001</td>\n",
       "      <td>0.001001</td>\n",
       "    </tr>\n",
       "    <tr>\n",
       "      <th>5</th>\n",
       "      <td>Ordenar</td>\n",
       "      <td>Clump_Thickness</td>\n",
       "      <td>0.000000</td>\n",
       "      <td>0.000000</td>\n",
       "    </tr>\n",
       "  </tbody>\n",
       "</table>\n",
       "</div>"
      ],
      "text/plain": [
       "              Teste          Colunas  Tempo BST  Tempo AVL\n",
       "0  Indexação do CSV            Todas   0.093000   0.056998\n",
       "1  Altura da Arvore               ID   0.000000   0.000000\n",
       "2  Altura da Arvore            Todas   0.000999   0.000998\n",
       "3      Filtro == 10          Mitoses   0.000000   0.000000\n",
       "4   Filtro == Maior            Todas   0.001001   0.001001\n",
       "5           Ordenar  Clump_Thickness   0.000000   0.000000"
      ]
     },
     "execution_count": 38,
     "metadata": {},
     "output_type": "execute_result"
    }
   ],
   "source": [
    "salvar = [\"Ordenar\", \"Clump_Thickness\", Tempo_final_ordenar_BST, Tempo_final_ordenar_AVL]\n",
    "df_benchmark.loc[len(df_benchmark)] = salvar\n",
    "df_benchmark"
   ]
  },
  {
   "cell_type": "code",
   "execution_count": 39,
   "id": "62bdffc6-7850-4638-8f65-49fbf5d256cf",
   "metadata": {},
   "outputs": [],
   "source": [
    "Tempo_inicial_ordenar_BST = time.time()\n",
    "for coluna in list(indexacao_bst.keys()):\n",
    "    order_by(linhas, indexacao_bst, coluna)\n",
    "Tempo_final_ordenar_BST = time.time() - Tempo_inicial_ordenar_BST"
   ]
  },
  {
   "cell_type": "code",
   "execution_count": 40,
   "id": "56e7333f-bc72-48ea-a91b-ff5167f5d9a8",
   "metadata": {},
   "outputs": [],
   "source": [
    "Tempo_inicial_ordenar_AVL = time.time()\n",
    "for coluna in list(indexacao_avl.keys()):\n",
    "    order_by(linhas, indexacao_avl, coluna)\n",
    "Tempo_final_ordenar_AVL = time.time() - Tempo_inicial_ordenar_AVL"
   ]
  },
  {
   "cell_type": "code",
   "execution_count": 41,
   "id": "f212ed15-baa2-4f89-b681-3966542d2528",
   "metadata": {},
   "outputs": [
    {
     "data": {
      "text/html": [
       "<div>\n",
       "<style scoped>\n",
       "    .dataframe tbody tr th:only-of-type {\n",
       "        vertical-align: middle;\n",
       "    }\n",
       "\n",
       "    .dataframe tbody tr th {\n",
       "        vertical-align: top;\n",
       "    }\n",
       "\n",
       "    .dataframe thead th {\n",
       "        text-align: right;\n",
       "    }\n",
       "</style>\n",
       "<table border=\"1\" class=\"dataframe\">\n",
       "  <thead>\n",
       "    <tr style=\"text-align: right;\">\n",
       "      <th></th>\n",
       "      <th>Teste</th>\n",
       "      <th>Colunas</th>\n",
       "      <th>Tempo BST</th>\n",
       "      <th>Tempo AVL</th>\n",
       "    </tr>\n",
       "  </thead>\n",
       "  <tbody>\n",
       "    <tr>\n",
       "      <th>0</th>\n",
       "      <td>Indexação do CSV</td>\n",
       "      <td>Todas</td>\n",
       "      <td>0.093000</td>\n",
       "      <td>0.056998</td>\n",
       "    </tr>\n",
       "    <tr>\n",
       "      <th>1</th>\n",
       "      <td>Altura da Arvore</td>\n",
       "      <td>ID</td>\n",
       "      <td>0.000000</td>\n",
       "      <td>0.000000</td>\n",
       "    </tr>\n",
       "    <tr>\n",
       "      <th>2</th>\n",
       "      <td>Altura da Arvore</td>\n",
       "      <td>Todas</td>\n",
       "      <td>0.000999</td>\n",
       "      <td>0.000998</td>\n",
       "    </tr>\n",
       "    <tr>\n",
       "      <th>3</th>\n",
       "      <td>Filtro == 10</td>\n",
       "      <td>Mitoses</td>\n",
       "      <td>0.000000</td>\n",
       "      <td>0.000000</td>\n",
       "    </tr>\n",
       "    <tr>\n",
       "      <th>4</th>\n",
       "      <td>Filtro == Maior</td>\n",
       "      <td>Todas</td>\n",
       "      <td>0.001001</td>\n",
       "      <td>0.001001</td>\n",
       "    </tr>\n",
       "    <tr>\n",
       "      <th>5</th>\n",
       "      <td>Ordenar</td>\n",
       "      <td>Clump_Thickness</td>\n",
       "      <td>0.000000</td>\n",
       "      <td>0.000000</td>\n",
       "    </tr>\n",
       "    <tr>\n",
       "      <th>6</th>\n",
       "      <td>Ordenar</td>\n",
       "      <td>Todas</td>\n",
       "      <td>0.029024</td>\n",
       "      <td>0.006999</td>\n",
       "    </tr>\n",
       "  </tbody>\n",
       "</table>\n",
       "</div>"
      ],
      "text/plain": [
       "              Teste          Colunas  Tempo BST  Tempo AVL\n",
       "0  Indexação do CSV            Todas   0.093000   0.056998\n",
       "1  Altura da Arvore               ID   0.000000   0.000000\n",
       "2  Altura da Arvore            Todas   0.000999   0.000998\n",
       "3      Filtro == 10          Mitoses   0.000000   0.000000\n",
       "4   Filtro == Maior            Todas   0.001001   0.001001\n",
       "5           Ordenar  Clump_Thickness   0.000000   0.000000\n",
       "6           Ordenar            Todas   0.029024   0.006999"
      ]
     },
     "execution_count": 41,
     "metadata": {},
     "output_type": "execute_result"
    }
   ],
   "source": [
    "salvar = [\"Ordenar\", \"Todas\", Tempo_final_ordenar_BST, Tempo_final_ordenar_AVL]\n",
    "df_benchmark.loc[len(df_benchmark)] = salvar\n",
    "df_benchmark"
   ]
  },
  {
   "cell_type": "markdown",
   "id": "8b4b348f-7fc3-4144-b230-b46169761dd1",
   "metadata": {},
   "source": [
    "### 3.4. Value Counts\n",
    "    - len(dicionario_colunas[coluna].get(dado).val)"
   ]
  },
  {
   "cell_type": "code",
   "execution_count": 42,
   "id": "12746b07-6dbc-4284-af71-45936d22bf79",
   "metadata": {},
   "outputs": [],
   "source": [
    "def value_counts(lista_indexada, coluna):\n",
    "    dados_unicos = listar_dados_ordenados(lista_indexada[coluna].root)\n",
    "    \n",
    "    lista_valores_contados = [[\"Valor\", \"Frequencia\"]]\n",
    "    for dado in dados_unicos:\n",
    "        lista_valores_contados.append([dado, len(lista_indexada[coluna].get(dado).val)])\n",
    "    \n",
    "    return lista_valores_contados"
   ]
  },
  {
   "cell_type": "code",
   "execution_count": 43,
   "id": "861b1c84-b5ea-4083-a223-99214081e7e3",
   "metadata": {},
   "outputs": [
    {
     "data": {
      "text/plain": [
       "[['Valor', 'Frequencia'],\n",
       " [1, 139],\n",
       " [2, 50],\n",
       " [3, 104],\n",
       " [4, 79],\n",
       " [5, 128],\n",
       " [6, 33],\n",
       " [7, 23],\n",
       " [8, 44],\n",
       " [9, 14],\n",
       " [10, 69]]"
      ]
     },
     "execution_count": 43,
     "metadata": {},
     "output_type": "execute_result"
    }
   ],
   "source": [
    "value_counts(indexacao_bst, \"Clump_Thickness\")"
   ]
  },
  {
   "cell_type": "code",
   "execution_count": 44,
   "id": "9427d4b2-021e-4d51-8211-d8259d6508d0",
   "metadata": {},
   "outputs": [
    {
     "data": {
      "text/plain": [
       "[['Valor', 'Frequencia'],\n",
       " [1, 139],\n",
       " [2, 50],\n",
       " [3, 104],\n",
       " [4, 79],\n",
       " [5, 128],\n",
       " [6, 33],\n",
       " [7, 23],\n",
       " [8, 44],\n",
       " [9, 14],\n",
       " [10, 69]]"
      ]
     },
     "execution_count": 44,
     "metadata": {},
     "output_type": "execute_result"
    }
   ],
   "source": [
    "value_counts(indexacao_avl, \"Clump_Thickness\")"
   ]
  },
  {
   "cell_type": "code",
   "execution_count": 45,
   "id": "20a62cde-c107-46bd-af0d-7a0aa43a0dbd",
   "metadata": {},
   "outputs": [],
   "source": [
    "Tempo_inicial_ValueCount_BST = time.time()\n",
    "value_counts(indexacao_bst, \"Clump_Thickness\")\n",
    "Tempo_final_ValueCount_BST = time.time() - Tempo_inicial_ValueCount_BST"
   ]
  },
  {
   "cell_type": "code",
   "execution_count": 46,
   "id": "cc55e9a8-c995-48c1-998c-e2f7833a90cf",
   "metadata": {},
   "outputs": [],
   "source": [
    "Tempo_inicial_ValueCount_AVL = time.time()\n",
    "value_counts(indexacao_avl, \"Clump_Thickness\")\n",
    "Tempo_final_ValueCount_AVL = time.time() - Tempo_inicial_ValueCount_AVL"
   ]
  },
  {
   "cell_type": "code",
   "execution_count": 47,
   "id": "80310a88-876b-494c-8b4e-bdcc80e1af94",
   "metadata": {},
   "outputs": [
    {
     "data": {
      "text/html": [
       "<div>\n",
       "<style scoped>\n",
       "    .dataframe tbody tr th:only-of-type {\n",
       "        vertical-align: middle;\n",
       "    }\n",
       "\n",
       "    .dataframe tbody tr th {\n",
       "        vertical-align: top;\n",
       "    }\n",
       "\n",
       "    .dataframe thead th {\n",
       "        text-align: right;\n",
       "    }\n",
       "</style>\n",
       "<table border=\"1\" class=\"dataframe\">\n",
       "  <thead>\n",
       "    <tr style=\"text-align: right;\">\n",
       "      <th></th>\n",
       "      <th>Teste</th>\n",
       "      <th>Colunas</th>\n",
       "      <th>Tempo BST</th>\n",
       "      <th>Tempo AVL</th>\n",
       "    </tr>\n",
       "  </thead>\n",
       "  <tbody>\n",
       "    <tr>\n",
       "      <th>0</th>\n",
       "      <td>Indexação do CSV</td>\n",
       "      <td>Todas</td>\n",
       "      <td>0.093000</td>\n",
       "      <td>0.056998</td>\n",
       "    </tr>\n",
       "    <tr>\n",
       "      <th>1</th>\n",
       "      <td>Altura da Arvore</td>\n",
       "      <td>ID</td>\n",
       "      <td>0.000000</td>\n",
       "      <td>0.000000</td>\n",
       "    </tr>\n",
       "    <tr>\n",
       "      <th>2</th>\n",
       "      <td>Altura da Arvore</td>\n",
       "      <td>Todas</td>\n",
       "      <td>0.000999</td>\n",
       "      <td>0.000998</td>\n",
       "    </tr>\n",
       "    <tr>\n",
       "      <th>3</th>\n",
       "      <td>Filtro == 10</td>\n",
       "      <td>Mitoses</td>\n",
       "      <td>0.000000</td>\n",
       "      <td>0.000000</td>\n",
       "    </tr>\n",
       "    <tr>\n",
       "      <th>4</th>\n",
       "      <td>Filtro == Maior</td>\n",
       "      <td>Todas</td>\n",
       "      <td>0.001001</td>\n",
       "      <td>0.001001</td>\n",
       "    </tr>\n",
       "    <tr>\n",
       "      <th>5</th>\n",
       "      <td>Ordenar</td>\n",
       "      <td>Clump_Thickness</td>\n",
       "      <td>0.000000</td>\n",
       "      <td>0.000000</td>\n",
       "    </tr>\n",
       "    <tr>\n",
       "      <th>6</th>\n",
       "      <td>Ordenar</td>\n",
       "      <td>Todas</td>\n",
       "      <td>0.029024</td>\n",
       "      <td>0.006999</td>\n",
       "    </tr>\n",
       "    <tr>\n",
       "      <th>7</th>\n",
       "      <td>ValueCount</td>\n",
       "      <td>Clump_Thickness</td>\n",
       "      <td>0.000000</td>\n",
       "      <td>0.000000</td>\n",
       "    </tr>\n",
       "  </tbody>\n",
       "</table>\n",
       "</div>"
      ],
      "text/plain": [
       "              Teste          Colunas  Tempo BST  Tempo AVL\n",
       "0  Indexação do CSV            Todas   0.093000   0.056998\n",
       "1  Altura da Arvore               ID   0.000000   0.000000\n",
       "2  Altura da Arvore            Todas   0.000999   0.000998\n",
       "3      Filtro == 10          Mitoses   0.000000   0.000000\n",
       "4   Filtro == Maior            Todas   0.001001   0.001001\n",
       "5           Ordenar  Clump_Thickness   0.000000   0.000000\n",
       "6           Ordenar            Todas   0.029024   0.006999\n",
       "7        ValueCount  Clump_Thickness   0.000000   0.000000"
      ]
     },
     "execution_count": 47,
     "metadata": {},
     "output_type": "execute_result"
    }
   ],
   "source": [
    "salvar = [\"ValueCount\", \"Clump_Thickness\", Tempo_final_ValueCount_BST, Tempo_final_ValueCount_AVL]\n",
    "df_benchmark.loc[len(df_benchmark)] = salvar\n",
    "df_benchmark"
   ]
  },
  {
   "cell_type": "code",
   "execution_count": 48,
   "id": "add17d71-c617-49c5-b167-eb92e0797c0c",
   "metadata": {},
   "outputs": [],
   "source": [
    "Tempo_inicial_ValueCount_BST = time.time()\n",
    "for coluna in list(indexacao_bst.keys()):\n",
    "    value_counts(indexacao_bst, coluna)\n",
    "Tempo_final_ValueCount_BST = time.time() - Tempo_inicial_ValueCount_BST"
   ]
  },
  {
   "cell_type": "code",
   "execution_count": 49,
   "id": "4dd7249b-791a-4010-8809-87636fb6db17",
   "metadata": {},
   "outputs": [],
   "source": [
    "Tempo_inicial_ValueCount_AVL = time.time()\n",
    "for coluna in list(indexacao_avl.keys()):\n",
    "    value_counts(indexacao_avl, coluna)\n",
    "Tempo_final_ValueCount_AVL = time.time() - Tempo_inicial_ValueCount_AVL"
   ]
  },
  {
   "cell_type": "code",
   "execution_count": 50,
   "id": "42f47a4e-9f9b-44ba-a8d2-e46b5e420f29",
   "metadata": {},
   "outputs": [
    {
     "data": {
      "text/html": [
       "<div>\n",
       "<style scoped>\n",
       "    .dataframe tbody tr th:only-of-type {\n",
       "        vertical-align: middle;\n",
       "    }\n",
       "\n",
       "    .dataframe tbody tr th {\n",
       "        vertical-align: top;\n",
       "    }\n",
       "\n",
       "    .dataframe thead th {\n",
       "        text-align: right;\n",
       "    }\n",
       "</style>\n",
       "<table border=\"1\" class=\"dataframe\">\n",
       "  <thead>\n",
       "    <tr style=\"text-align: right;\">\n",
       "      <th></th>\n",
       "      <th>Teste</th>\n",
       "      <th>Colunas</th>\n",
       "      <th>Tempo BST</th>\n",
       "      <th>Tempo AVL</th>\n",
       "    </tr>\n",
       "  </thead>\n",
       "  <tbody>\n",
       "    <tr>\n",
       "      <th>0</th>\n",
       "      <td>Indexação do CSV</td>\n",
       "      <td>Todas</td>\n",
       "      <td>0.093000</td>\n",
       "      <td>0.056998</td>\n",
       "    </tr>\n",
       "    <tr>\n",
       "      <th>1</th>\n",
       "      <td>Altura da Arvore</td>\n",
       "      <td>ID</td>\n",
       "      <td>0.000000</td>\n",
       "      <td>0.000000</td>\n",
       "    </tr>\n",
       "    <tr>\n",
       "      <th>2</th>\n",
       "      <td>Altura da Arvore</td>\n",
       "      <td>Todas</td>\n",
       "      <td>0.000999</td>\n",
       "      <td>0.000998</td>\n",
       "    </tr>\n",
       "    <tr>\n",
       "      <th>3</th>\n",
       "      <td>Filtro == 10</td>\n",
       "      <td>Mitoses</td>\n",
       "      <td>0.000000</td>\n",
       "      <td>0.000000</td>\n",
       "    </tr>\n",
       "    <tr>\n",
       "      <th>4</th>\n",
       "      <td>Filtro == Maior</td>\n",
       "      <td>Todas</td>\n",
       "      <td>0.001001</td>\n",
       "      <td>0.001001</td>\n",
       "    </tr>\n",
       "    <tr>\n",
       "      <th>5</th>\n",
       "      <td>Ordenar</td>\n",
       "      <td>Clump_Thickness</td>\n",
       "      <td>0.000000</td>\n",
       "      <td>0.000000</td>\n",
       "    </tr>\n",
       "    <tr>\n",
       "      <th>6</th>\n",
       "      <td>Ordenar</td>\n",
       "      <td>Todas</td>\n",
       "      <td>0.029024</td>\n",
       "      <td>0.006999</td>\n",
       "    </tr>\n",
       "    <tr>\n",
       "      <th>7</th>\n",
       "      <td>ValueCount</td>\n",
       "      <td>Clump_Thickness</td>\n",
       "      <td>0.000000</td>\n",
       "      <td>0.000000</td>\n",
       "    </tr>\n",
       "    <tr>\n",
       "      <th>8</th>\n",
       "      <td>ValueCount</td>\n",
       "      <td>Todas</td>\n",
       "      <td>0.030512</td>\n",
       "      <td>0.004001</td>\n",
       "    </tr>\n",
       "  </tbody>\n",
       "</table>\n",
       "</div>"
      ],
      "text/plain": [
       "              Teste          Colunas  Tempo BST  Tempo AVL\n",
       "0  Indexação do CSV            Todas   0.093000   0.056998\n",
       "1  Altura da Arvore               ID   0.000000   0.000000\n",
       "2  Altura da Arvore            Todas   0.000999   0.000998\n",
       "3      Filtro == 10          Mitoses   0.000000   0.000000\n",
       "4   Filtro == Maior            Todas   0.001001   0.001001\n",
       "5           Ordenar  Clump_Thickness   0.000000   0.000000\n",
       "6           Ordenar            Todas   0.029024   0.006999\n",
       "7        ValueCount  Clump_Thickness   0.000000   0.000000\n",
       "8        ValueCount            Todas   0.030512   0.004001"
      ]
     },
     "execution_count": 50,
     "metadata": {},
     "output_type": "execute_result"
    }
   ],
   "source": [
    "salvar = [\"ValueCount\", \"Todas\", Tempo_final_ValueCount_BST, Tempo_final_ValueCount_AVL]\n",
    "df_benchmark.loc[len(df_benchmark)] = salvar\n",
    "df_benchmark"
   ]
  },
  {
   "cell_type": "markdown",
   "id": "33943d52-2a10-4cd9-8b12-de383bbf875e",
   "metadata": {},
   "source": [
    "### 3.5. Descrições de Dados Estatísticos:\n",
    "    - Minimo\n",
    "        - indexacao_avl[coluna].get_min()\n",
    "    - Máximo\n",
    "        - indexacao_avl[coluna].get_max()\n",
    "    - Média\n",
    "    - Moda"
   ]
  },
  {
   "cell_type": "code",
   "execution_count": 51,
   "id": "e9d37f7d-942d-48fb-9739-3bf2251544da",
   "metadata": {},
   "outputs": [],
   "source": [
    "def media(lista_indexada, coluna):\n",
    "    dados_unicos = listar_dados_ordenados(lista_indexada[coluna].root)\n",
    "    quantidade_total = 0\n",
    "    soma = 0\n",
    "    for dado in dados_unicos:\n",
    "        quantidade = len(lista_indexada[coluna].get(dado).val)\n",
    "        quantidade_total = quantidade_total + quantidade\n",
    "        soma = soma + dado * quantidade\n",
    "    return soma / quantidade_total"
   ]
  },
  {
   "cell_type": "code",
   "execution_count": 52,
   "id": "761c2862-0ea6-479e-a7ea-d63edca19f89",
   "metadata": {},
   "outputs": [],
   "source": [
    "def moda_coluna(lista_indexada, coluna):\n",
    "    moda = [\"0\", 0]\n",
    "    for valor, frequencia in value_counts(lista_indexada, coluna)[1:]:\n",
    "        if frequencia > moda[1]:\n",
    "            moda = [valor, frequencia]\n",
    "    return moda[0]"
   ]
  },
  {
   "cell_type": "code",
   "execution_count": 53,
   "id": "33ab09f9-3be4-4054-b842-7ebc48047862",
   "metadata": {},
   "outputs": [],
   "source": [
    "def descricao_base(lista_indexada):\n",
    "    descricao_colunas = [[\"Coluna\", \"Minimo\", \"Maximo\", \"Media\", \"Moda\"]]\n",
    "    for coluna, dados in lista_indexada.items():\n",
    "        descricao_colunas.append([coluna,\n",
    "                                  lista_indexada[coluna].get_min(),\n",
    "                                  lista_indexada[coluna].get_max(),\n",
    "                                  media(lista_indexada, coluna),\n",
    "                                  moda_coluna(lista_indexada, coluna)])\n",
    "    return descricao_colunas"
   ]
  },
  {
   "cell_type": "code",
   "execution_count": 54,
   "id": "ce5aaba3-7010-4373-b6de-95f3574c4363",
   "metadata": {},
   "outputs": [
    {
     "data": {
      "text/html": [
       "<div>\n",
       "<style scoped>\n",
       "    .dataframe tbody tr th:only-of-type {\n",
       "        vertical-align: middle;\n",
       "    }\n",
       "\n",
       "    .dataframe tbody tr th {\n",
       "        vertical-align: top;\n",
       "    }\n",
       "\n",
       "    .dataframe thead th {\n",
       "        text-align: right;\n",
       "    }\n",
       "</style>\n",
       "<table border=\"1\" class=\"dataframe\">\n",
       "  <thead>\n",
       "    <tr style=\"text-align: right;\">\n",
       "      <th>Coluna</th>\n",
       "      <th>ID</th>\n",
       "      <th>Clump_Thickness</th>\n",
       "      <th>Cell_Size</th>\n",
       "      <th>Cell_Shape</th>\n",
       "      <th>Marginal_Adhesion</th>\n",
       "      <th>Single_Epithelial_Cell_Size</th>\n",
       "      <th>Bare_Nuclei</th>\n",
       "      <th>Bland_Cromatin</th>\n",
       "      <th>Normal_Nucleoli</th>\n",
       "      <th>Mitoses</th>\n",
       "      <th>Class</th>\n",
       "    </tr>\n",
       "    <tr>\n",
       "      <th>0</th>\n",
       "      <th></th>\n",
       "      <th></th>\n",
       "      <th></th>\n",
       "      <th></th>\n",
       "      <th></th>\n",
       "      <th></th>\n",
       "      <th></th>\n",
       "      <th></th>\n",
       "      <th></th>\n",
       "      <th></th>\n",
       "      <th></th>\n",
       "    </tr>\n",
       "  </thead>\n",
       "  <tbody>\n",
       "    <tr>\n",
       "      <th>Minimo</th>\n",
       "      <td>63375</td>\n",
       "      <td>1</td>\n",
       "      <td>1</td>\n",
       "      <td>1</td>\n",
       "      <td>1</td>\n",
       "      <td>1</td>\n",
       "      <td>1</td>\n",
       "      <td>1</td>\n",
       "      <td>1</td>\n",
       "      <td>1</td>\n",
       "      <td>2</td>\n",
       "    </tr>\n",
       "    <tr>\n",
       "      <th>Maximo</th>\n",
       "      <td>13454352</td>\n",
       "      <td>10</td>\n",
       "      <td>10</td>\n",
       "      <td>10</td>\n",
       "      <td>10</td>\n",
       "      <td>10</td>\n",
       "      <td>10</td>\n",
       "      <td>10</td>\n",
       "      <td>10</td>\n",
       "      <td>10</td>\n",
       "      <td>4</td>\n",
       "    </tr>\n",
       "    <tr>\n",
       "      <th>Media</th>\n",
       "      <td>1076720.22694</td>\n",
       "      <td>4.442167</td>\n",
       "      <td>3.150805</td>\n",
       "      <td>3.215227</td>\n",
       "      <td>2.830161</td>\n",
       "      <td>3.234261</td>\n",
       "      <td>3.544656</td>\n",
       "      <td>3.445095</td>\n",
       "      <td>2.869693</td>\n",
       "      <td>1.603221</td>\n",
       "      <td>2.699854</td>\n",
       "    </tr>\n",
       "    <tr>\n",
       "      <th>Moda</th>\n",
       "      <td>1182404</td>\n",
       "      <td>1</td>\n",
       "      <td>1</td>\n",
       "      <td>1</td>\n",
       "      <td>1</td>\n",
       "      <td>2</td>\n",
       "      <td>1</td>\n",
       "      <td>3</td>\n",
       "      <td>1</td>\n",
       "      <td>1</td>\n",
       "      <td>2</td>\n",
       "    </tr>\n",
       "  </tbody>\n",
       "</table>\n",
       "</div>"
      ],
      "text/plain": [
       "Coluna             ID Clump_Thickness Cell_Size Cell_Shape Marginal_Adhesion  \\\n",
       "0                                                                              \n",
       "Minimo          63375               1         1          1                 1   \n",
       "Maximo       13454352              10        10         10                10   \n",
       "Media   1076720.22694        4.442167  3.150805   3.215227          2.830161   \n",
       "Moda          1182404               1         1          1                 1   \n",
       "\n",
       "Coluna Single_Epithelial_Cell_Size Bare_Nuclei Bland_Cromatin Normal_Nucleoli  \\\n",
       "0                                                                               \n",
       "Minimo                           1           1              1               1   \n",
       "Maximo                          10          10             10              10   \n",
       "Media                     3.234261    3.544656       3.445095        2.869693   \n",
       "Moda                             2           1              3               1   \n",
       "\n",
       "Coluna   Mitoses     Class  \n",
       "0                           \n",
       "Minimo         1         2  \n",
       "Maximo        10         4  \n",
       "Media   1.603221  2.699854  \n",
       "Moda           1         2  "
      ]
     },
     "execution_count": 54,
     "metadata": {},
     "output_type": "execute_result"
    }
   ],
   "source": [
    "df_bst = pd.DataFrame(descricao_base(indexacao_bst)).T\n",
    "df_bst.index = df_bst[0]\n",
    "df_bst = df_bst.iloc[:, 1:]\n",
    "df_bst.columns = df_bst.iloc[0, :]\n",
    "df_bst = df_bst.iloc[1:, :]\n",
    "df_bst"
   ]
  },
  {
   "cell_type": "code",
   "execution_count": 55,
   "id": "6f1e95eb-00df-4960-b0b4-65bdc84f144f",
   "metadata": {},
   "outputs": [
    {
     "data": {
      "text/html": [
       "<div>\n",
       "<style scoped>\n",
       "    .dataframe tbody tr th:only-of-type {\n",
       "        vertical-align: middle;\n",
       "    }\n",
       "\n",
       "    .dataframe tbody tr th {\n",
       "        vertical-align: top;\n",
       "    }\n",
       "\n",
       "    .dataframe thead th {\n",
       "        text-align: right;\n",
       "    }\n",
       "</style>\n",
       "<table border=\"1\" class=\"dataframe\">\n",
       "  <thead>\n",
       "    <tr style=\"text-align: right;\">\n",
       "      <th>Coluna</th>\n",
       "      <th>ID</th>\n",
       "      <th>Clump_Thickness</th>\n",
       "      <th>Cell_Size</th>\n",
       "      <th>Cell_Shape</th>\n",
       "      <th>Marginal_Adhesion</th>\n",
       "      <th>Single_Epithelial_Cell_Size</th>\n",
       "      <th>Bare_Nuclei</th>\n",
       "      <th>Bland_Cromatin</th>\n",
       "      <th>Normal_Nucleoli</th>\n",
       "      <th>Mitoses</th>\n",
       "      <th>Class</th>\n",
       "    </tr>\n",
       "    <tr>\n",
       "      <th>0</th>\n",
       "      <th></th>\n",
       "      <th></th>\n",
       "      <th></th>\n",
       "      <th></th>\n",
       "      <th></th>\n",
       "      <th></th>\n",
       "      <th></th>\n",
       "      <th></th>\n",
       "      <th></th>\n",
       "      <th></th>\n",
       "      <th></th>\n",
       "    </tr>\n",
       "  </thead>\n",
       "  <tbody>\n",
       "    <tr>\n",
       "      <th>Minimo</th>\n",
       "      <td>63375</td>\n",
       "      <td>1</td>\n",
       "      <td>1</td>\n",
       "      <td>1</td>\n",
       "      <td>1</td>\n",
       "      <td>1</td>\n",
       "      <td>1</td>\n",
       "      <td>1</td>\n",
       "      <td>1</td>\n",
       "      <td>1</td>\n",
       "      <td>2</td>\n",
       "    </tr>\n",
       "    <tr>\n",
       "      <th>Maximo</th>\n",
       "      <td>13454352</td>\n",
       "      <td>10</td>\n",
       "      <td>10</td>\n",
       "      <td>10</td>\n",
       "      <td>10</td>\n",
       "      <td>10</td>\n",
       "      <td>10</td>\n",
       "      <td>10</td>\n",
       "      <td>10</td>\n",
       "      <td>10</td>\n",
       "      <td>4</td>\n",
       "    </tr>\n",
       "    <tr>\n",
       "      <th>Media</th>\n",
       "      <td>1076720.22694</td>\n",
       "      <td>4.442167</td>\n",
       "      <td>3.150805</td>\n",
       "      <td>3.215227</td>\n",
       "      <td>2.830161</td>\n",
       "      <td>3.234261</td>\n",
       "      <td>3.544656</td>\n",
       "      <td>3.445095</td>\n",
       "      <td>2.869693</td>\n",
       "      <td>1.603221</td>\n",
       "      <td>2.699854</td>\n",
       "    </tr>\n",
       "    <tr>\n",
       "      <th>Moda</th>\n",
       "      <td>1182404</td>\n",
       "      <td>1</td>\n",
       "      <td>1</td>\n",
       "      <td>1</td>\n",
       "      <td>1</td>\n",
       "      <td>2</td>\n",
       "      <td>1</td>\n",
       "      <td>3</td>\n",
       "      <td>1</td>\n",
       "      <td>1</td>\n",
       "      <td>2</td>\n",
       "    </tr>\n",
       "  </tbody>\n",
       "</table>\n",
       "</div>"
      ],
      "text/plain": [
       "Coluna             ID Clump_Thickness Cell_Size Cell_Shape Marginal_Adhesion  \\\n",
       "0                                                                              \n",
       "Minimo          63375               1         1          1                 1   \n",
       "Maximo       13454352              10        10         10                10   \n",
       "Media   1076720.22694        4.442167  3.150805   3.215227          2.830161   \n",
       "Moda          1182404               1         1          1                 1   \n",
       "\n",
       "Coluna Single_Epithelial_Cell_Size Bare_Nuclei Bland_Cromatin Normal_Nucleoli  \\\n",
       "0                                                                               \n",
       "Minimo                           1           1              1               1   \n",
       "Maximo                          10          10             10              10   \n",
       "Media                     3.234261    3.544656       3.445095        2.869693   \n",
       "Moda                             2           1              3               1   \n",
       "\n",
       "Coluna   Mitoses     Class  \n",
       "0                           \n",
       "Minimo         1         2  \n",
       "Maximo        10         4  \n",
       "Media   1.603221  2.699854  \n",
       "Moda           1         2  "
      ]
     },
     "execution_count": 55,
     "metadata": {},
     "output_type": "execute_result"
    }
   ],
   "source": [
    "df_avl = pd.DataFrame(descricao_base(indexacao_avl)).T\n",
    "df_avl.index = df_avl[0]\n",
    "df_avl = df_avl.iloc[:, 1:]\n",
    "df_avl.columns = df_avl.iloc[0, :]\n",
    "df_avl = df_avl.iloc[1:, :]\n",
    "df_avl"
   ]
  },
  {
   "cell_type": "code",
   "execution_count": 56,
   "id": "30f84add-e332-4d4f-a803-7a387c70e4b0",
   "metadata": {},
   "outputs": [
    {
     "data": {
      "text/plain": [
       "0.0579984188079834"
      ]
     },
     "execution_count": 56,
     "metadata": {},
     "output_type": "execute_result"
    }
   ],
   "source": [
    "Tempo_inicial_Descricao_BST = time.time()\n",
    "descricao_base(indexacao_bst)\n",
    "Tempo_final_Descricao_BST = time.time() - Tempo_inicial_Descricao_BST\n",
    "Tempo_final_Descricao_BST"
   ]
  },
  {
   "cell_type": "code",
   "execution_count": 57,
   "id": "dff68245-7588-48df-8d80-49d56c9712b3",
   "metadata": {},
   "outputs": [
    {
     "data": {
      "text/plain": [
       "0.007999181747436523"
      ]
     },
     "execution_count": 57,
     "metadata": {},
     "output_type": "execute_result"
    }
   ],
   "source": [
    "Tempo_inicial_Descricao_AVL = time.time()\n",
    "descricao_base(indexacao_avl)\n",
    "Tempo_final_Descricao_AVL = time.time() - Tempo_inicial_Descricao_AVL\n",
    "Tempo_final_Descricao_AVL"
   ]
  },
  {
   "cell_type": "code",
   "execution_count": 58,
   "id": "62194eff-0789-4ea7-a9ba-d65c32c2da2a",
   "metadata": {},
   "outputs": [],
   "source": [
    "salvar = [\"Descricao Estatistica\", \"Todas\", Tempo_final_Descricao_BST, Tempo_final_Descricao_AVL]\n",
    "df_benchmark.loc[len(df_benchmark)] = salvar"
   ]
  },
  {
   "cell_type": "markdown",
   "id": "c5289f0a-0506-4865-8f07-e13d2f12b108",
   "metadata": {},
   "source": [
    "---"
   ]
  },
  {
   "cell_type": "markdown",
   "id": "baebebff-72a5-440f-a812-c590750e652f",
   "metadata": {},
   "source": [
    "## 4. Criar gráficos, tabelas ou outros recursos para demonstrar resultados sobre as questões verificadas, bem como uma análise textual sobre os resultados."
   ]
  },
  {
   "cell_type": "code",
   "execution_count": 59,
   "id": "da3b3496-1f6f-41b7-9042-154a53fcb3f2",
   "metadata": {},
   "outputs": [
    {
     "data": {
      "text/html": [
       "<div>\n",
       "<style scoped>\n",
       "    .dataframe tbody tr th:only-of-type {\n",
       "        vertical-align: middle;\n",
       "    }\n",
       "\n",
       "    .dataframe tbody tr th {\n",
       "        vertical-align: top;\n",
       "    }\n",
       "\n",
       "    .dataframe thead th {\n",
       "        text-align: right;\n",
       "    }\n",
       "</style>\n",
       "<table border=\"1\" class=\"dataframe\">\n",
       "  <thead>\n",
       "    <tr style=\"text-align: right;\">\n",
       "      <th></th>\n",
       "      <th>Teste</th>\n",
       "      <th>Colunas</th>\n",
       "      <th>Tempo BST</th>\n",
       "      <th>Tempo AVL</th>\n",
       "    </tr>\n",
       "  </thead>\n",
       "  <tbody>\n",
       "    <tr>\n",
       "      <th>0</th>\n",
       "      <td>Indexação do CSV</td>\n",
       "      <td>Todas</td>\n",
       "      <td>0.093000</td>\n",
       "      <td>0.056998</td>\n",
       "    </tr>\n",
       "    <tr>\n",
       "      <th>1</th>\n",
       "      <td>Altura da Arvore</td>\n",
       "      <td>ID</td>\n",
       "      <td>0.000000</td>\n",
       "      <td>0.000000</td>\n",
       "    </tr>\n",
       "    <tr>\n",
       "      <th>2</th>\n",
       "      <td>Altura da Arvore</td>\n",
       "      <td>Todas</td>\n",
       "      <td>0.000999</td>\n",
       "      <td>0.000998</td>\n",
       "    </tr>\n",
       "    <tr>\n",
       "      <th>3</th>\n",
       "      <td>Filtro == 10</td>\n",
       "      <td>Mitoses</td>\n",
       "      <td>0.000000</td>\n",
       "      <td>0.000000</td>\n",
       "    </tr>\n",
       "    <tr>\n",
       "      <th>4</th>\n",
       "      <td>Filtro == Maior</td>\n",
       "      <td>Todas</td>\n",
       "      <td>0.001001</td>\n",
       "      <td>0.001001</td>\n",
       "    </tr>\n",
       "    <tr>\n",
       "      <th>5</th>\n",
       "      <td>Ordenar</td>\n",
       "      <td>Clump_Thickness</td>\n",
       "      <td>0.000000</td>\n",
       "      <td>0.000000</td>\n",
       "    </tr>\n",
       "    <tr>\n",
       "      <th>6</th>\n",
       "      <td>Ordenar</td>\n",
       "      <td>Todas</td>\n",
       "      <td>0.029024</td>\n",
       "      <td>0.006999</td>\n",
       "    </tr>\n",
       "    <tr>\n",
       "      <th>7</th>\n",
       "      <td>ValueCount</td>\n",
       "      <td>Clump_Thickness</td>\n",
       "      <td>0.000000</td>\n",
       "      <td>0.000000</td>\n",
       "    </tr>\n",
       "    <tr>\n",
       "      <th>8</th>\n",
       "      <td>ValueCount</td>\n",
       "      <td>Todas</td>\n",
       "      <td>0.030512</td>\n",
       "      <td>0.004001</td>\n",
       "    </tr>\n",
       "    <tr>\n",
       "      <th>9</th>\n",
       "      <td>Descricao Estatistica</td>\n",
       "      <td>Todas</td>\n",
       "      <td>0.057998</td>\n",
       "      <td>0.007999</td>\n",
       "    </tr>\n",
       "  </tbody>\n",
       "</table>\n",
       "</div>"
      ],
      "text/plain": [
       "                   Teste          Colunas  Tempo BST  Tempo AVL\n",
       "0       Indexação do CSV            Todas   0.093000   0.056998\n",
       "1       Altura da Arvore               ID   0.000000   0.000000\n",
       "2       Altura da Arvore            Todas   0.000999   0.000998\n",
       "3           Filtro == 10          Mitoses   0.000000   0.000000\n",
       "4        Filtro == Maior            Todas   0.001001   0.001001\n",
       "5                Ordenar  Clump_Thickness   0.000000   0.000000\n",
       "6                Ordenar            Todas   0.029024   0.006999\n",
       "7             ValueCount  Clump_Thickness   0.000000   0.000000\n",
       "8             ValueCount            Todas   0.030512   0.004001\n",
       "9  Descricao Estatistica            Todas   0.057998   0.007999"
      ]
     },
     "execution_count": 59,
     "metadata": {},
     "output_type": "execute_result"
    }
   ],
   "source": [
    "df_benchmark"
   ]
  },
  {
   "cell_type": "markdown",
   "id": "658cb84f-33c0-4e5f-9281-8aa674ab6c5f",
   "metadata": {},
   "source": [
    "$\\;\\;\\;\\;$ As duas técnicas se mostraram rápidas para a exeução das tarefas em uma base de dados de 699 linhas, com vantagem para a Árvore AVL que ganhou em todas rodadas. Algumas das rotinas forma tão rápidas que registraram 0s, então para poder obter mais informação, adicionei um loop que faz a rotina rodar em todas as colunas. Mesmo assim no caso do filtro o tempo registrado foi 0s.\n",
    "\n",
    "$\\;\\;\\;\\;$ A Indexação foi a tarefa que mais demorou, sendo essa a inserção dos dados do CSV nas árvores. Em comparação pode-se ver que torna a busca mais rápida. Porem, novamente a arvore AVL se mostra com uma busca muito mais rápida."
   ]
  },
  {
   "cell_type": "code",
   "execution_count": 60,
   "id": "89778604-4050-4f25-8ab4-13f45a34ef2b",
   "metadata": {},
   "outputs": [
    {
     "data": {
      "text/html": [
       "<div>\n",
       "<style scoped>\n",
       "    .dataframe tbody tr th:only-of-type {\n",
       "        vertical-align: middle;\n",
       "    }\n",
       "\n",
       "    .dataframe tbody tr th {\n",
       "        vertical-align: top;\n",
       "    }\n",
       "\n",
       "    .dataframe thead th {\n",
       "        text-align: right;\n",
       "    }\n",
       "</style>\n",
       "<table border=\"1\" class=\"dataframe\">\n",
       "  <thead>\n",
       "    <tr style=\"text-align: right;\">\n",
       "      <th></th>\n",
       "      <th>Tempo BST</th>\n",
       "      <th>Tempo AVL</th>\n",
       "    </tr>\n",
       "  </thead>\n",
       "  <tbody>\n",
       "    <tr>\n",
       "      <th>count</th>\n",
       "      <td>10.000000</td>\n",
       "      <td>10.000000</td>\n",
       "    </tr>\n",
       "    <tr>\n",
       "      <th>mean</th>\n",
       "      <td>0.021253</td>\n",
       "      <td>0.007800</td>\n",
       "    </tr>\n",
       "    <tr>\n",
       "      <th>std</th>\n",
       "      <td>0.032096</td>\n",
       "      <td>0.017548</td>\n",
       "    </tr>\n",
       "    <tr>\n",
       "      <th>min</th>\n",
       "      <td>0.000000</td>\n",
       "      <td>0.000000</td>\n",
       "    </tr>\n",
       "    <tr>\n",
       "      <th>25%</th>\n",
       "      <td>0.000000</td>\n",
       "      <td>0.000000</td>\n",
       "    </tr>\n",
       "    <tr>\n",
       "      <th>50%</th>\n",
       "      <td>0.001000</td>\n",
       "      <td>0.001000</td>\n",
       "    </tr>\n",
       "    <tr>\n",
       "      <th>75%</th>\n",
       "      <td>0.030140</td>\n",
       "      <td>0.006250</td>\n",
       "    </tr>\n",
       "    <tr>\n",
       "      <th>max</th>\n",
       "      <td>0.093000</td>\n",
       "      <td>0.056998</td>\n",
       "    </tr>\n",
       "  </tbody>\n",
       "</table>\n",
       "</div>"
      ],
      "text/plain": [
       "       Tempo BST  Tempo AVL\n",
       "count  10.000000  10.000000\n",
       "mean    0.021253   0.007800\n",
       "std     0.032096   0.017548\n",
       "min     0.000000   0.000000\n",
       "25%     0.000000   0.000000\n",
       "50%     0.001000   0.001000\n",
       "75%     0.030140   0.006250\n",
       "max     0.093000   0.056998"
      ]
     },
     "execution_count": 60,
     "metadata": {},
     "output_type": "execute_result"
    }
   ],
   "source": [
    "df_benchmark.describe()"
   ]
  },
  {
   "cell_type": "markdown",
   "id": "380d7848-2755-49b2-8b43-051dacfd9d19",
   "metadata": {},
   "source": [
    "$\\;\\;\\;\\;$ Qualquer operação aqui se mostrou mais rápida do que 1 décimo de segundo. Mas pensando em um cenário de BigData com a Árvore AVL se faz necessária. Pois ao tirar a média dos tempos das rodadas BST e AVL, a BST se mostra quase 3 vezes mais lenta, além de variar mais nos tempos visto que o desvio padrão também é maior. O que demonstra mais estabílidade para a AVL."
   ]
  },
  {
   "cell_type": "code",
   "execution_count": null,
   "id": "a9c9f154-6b54-405a-b255-95702f126263",
   "metadata": {},
   "outputs": [],
   "source": []
  }
 ],
 "metadata": {
  "kernelspec": {
   "display_name": "Python 3",
   "language": "python",
   "name": "python3"
  },
  "language_info": {
   "codemirror_mode": {
    "name": "ipython",
    "version": 3
   },
   "file_extension": ".py",
   "mimetype": "text/x-python",
   "name": "python",
   "nbconvert_exporter": "python",
   "pygments_lexer": "ipython3",
   "version": "3.7.10"
  }
 },
 "nbformat": 4,
 "nbformat_minor": 5
}
