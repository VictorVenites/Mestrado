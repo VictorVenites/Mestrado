{
 "cells": [
  {
   "cell_type": "markdown",
   "metadata": {},
   "source": [
    "# <center><b><i>WebScraping da Clima Tempo</i></b></center>\n",
    "\n",
    "- Autor: Victor Venites\n",
    "- Data: 22/10/2021\n",
    "- Desafio: Trazer o a temperatura disponibilizada no site da clima tempo\n",
    "- Anáise:\n",
    "    - O site só carrega depois de vc liberar seus dados de localização, por isso precisei do selenium para navegar.\n",
    "    - E usei o ChomeDriver, porque ele permite liberar as opções de acesso"
   ]
  },
  {
   "cell_type": "code",
   "execution_count": 1,
   "metadata": {},
   "outputs": [],
   "source": [
    "site = \"https://www.climatempo.com.br/\""
   ]
  },
  {
   "cell_type": "code",
   "execution_count": 2,
   "metadata": {},
   "outputs": [
    {
     "name": "stdout",
     "output_type": "stream",
     "text": [
      "A temperatura registrada no site é 18°\n"
     ]
    }
   ],
   "source": [
    "from selenium import webdriver\n",
    "from selenium.webdriver.chrome.options import Options\n",
    "import time\n",
    "\n",
    "opt = Options()\n",
    "opt.add_argument(\"--disable-infobars\")\n",
    "opt.add_argument(\"start-maximized\")\n",
    "opt.add_argument(\"--disable-extensions\")\n",
    "# Pass the argument 1 to allow and 2 to block\n",
    "opt.add_experimental_option(\"prefs\", { \\\n",
    "    \"profile.default_content_setting_values.media_stream_mic\": 1, \n",
    "    \"profile.default_content_setting_values.media_stream_camera\": 1,\n",
    "    \"profile.default_content_setting_values.geolocation\": 1, \n",
    "    \"profile.default_content_setting_values.notifications\": 1 \n",
    "  })\n",
    "\n",
    "site = \"https://www.climatempo.com.br/\"\n",
    "\n",
    "# Baixar o driver do Chromium para o Selenium rodar o navegador\n",
    "# https://chromedriver.chromium.org/downloads\n",
    "driver = webdriver.Chrome(options=opt,\n",
    "                          executable_path=r'D:\\Mackenzie\\Coleta_Armazenamento_e_VisualizacaoDeDados\\chromedriver.exe')\n",
    "driver.get(site)\n",
    "\n",
    "driver.implicitly_wait(10)\n",
    "time.sleep(15)\n",
    "\n",
    "#<div class=\"_flex _align-center\">\n",
    "#<a href=\"https://www.climatempo.com.br\">\n",
    "botao = driver.find_element_by_xpath('//a[@href=\"https://www.climatempo.com.br\"]')\n",
    "botao.click()\n",
    "\n",
    "driver.implicitly_wait(10)\n",
    "time.sleep(10)\n",
    "\n",
    "# Baixar lista de dados# temperature _margin-l-5 -font-13\n",
    "# current-weather-temperature\n",
    "filtro = driver.find_element_by_id(\"current-weather-temperature\")\n",
    "print(f\"A temperatura registrada no site é {filtro.text}\")\n",
    "\n",
    "driver.quit()"
   ]
  }
 ],
 "metadata": {
  "interpreter": {
   "hash": "6b175f64403ee46bdc5198d35daf1dec625c3f6cf2fae21f7957cc25d1132ce8"
  },
  "kernelspec": {
   "display_name": "Python 3",
   "language": "python",
   "name": "python3"
  },
  "language_info": {
   "codemirror_mode": {
    "name": "ipython",
    "version": 3
   },
   "file_extension": ".py",
   "mimetype": "text/x-python",
   "name": "python",
   "nbconvert_exporter": "python",
   "pygments_lexer": "ipython3",
   "version": "3.7.10"
  }
 },
 "nbformat": 4,
 "nbformat_minor": 4
}
